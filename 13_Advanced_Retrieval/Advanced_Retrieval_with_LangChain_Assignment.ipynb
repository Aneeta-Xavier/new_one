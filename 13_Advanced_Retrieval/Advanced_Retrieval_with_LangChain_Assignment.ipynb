{
  "cells": [
    {
      "cell_type": "markdown",
      "metadata": {
        "id": "e-IqJAMkwnCF"
      },
      "source": [
        "# Advanced Retrieval with LangChain\n",
        "\n",
        "In the following notebook, we'll explore various methods of advanced retrieval using LangChain!\n",
        "\n",
        "We'll touch on:\n",
        "\n",
        "- Naive Retrieval\n",
        "- Best-Matching 25 (BM25)\n",
        "- Multi-Query Retrieval\n",
        "- Parent-Document Retrieval\n",
        "- Contextual Compression (a.k.a. Rerank)\n",
        "- Ensemble Retrieval\n",
        "- Semantic chunking\n",
        "\n",
        "We'll also discuss how these methods impact performance on our set of documents with a simple RAG chain.\n",
        "\n",
        "There will be two breakout rooms:\n",
        "\n",
        "- 🤝 Breakout Room Part #1\n",
        "  - Task 1: Getting Dependencies!\n",
        "  - Task 2: Data Collection and Preparation\n",
        "  - Task 3: Setting Up QDrant!\n",
        "  - Task 4-10: Retrieval Strategies\n",
        "- 🤝 Breakout Room Part #2\n",
        "  - Activity: Evaluate with Ragas"
      ]
    },
    {
      "cell_type": "markdown",
      "metadata": {
        "id": "4rKP3hgHivpe"
      },
      "source": [
        "# 🤝 Breakout Room Part #1"
      ]
    },
    {
      "cell_type": "markdown",
      "metadata": {
        "id": "3xes8oT-xHN7"
      },
      "source": [
        "## Task 1: Getting Dependencies!\n",
        "\n",
        "We're going to need a few specific LangChain community packages, like OpenAI (for our [LLM](https://platform.openai.com/docs/models) and [Embedding Model](https://platform.openai.com/docs/guides/embeddings)) and Cohere (for our [Reranker](https://cohere.com/rerank)).\n",
        "\n",
        "> You do not need to run the following cells if you are running this notebook locally. "
      ]
    },
    {
      "cell_type": "code",
      "execution_count": null,
      "metadata": {
        "colab": {
          "base_uri": "https://localhost:8080/"
        },
        "id": "MkgFAXWVW3wm",
        "outputId": "636db35c-f05a-4038-ec7a-02360bef2dae"
      },
      "outputs": [
        {
          "name": "stdout",
          "output_type": "stream",
          "text": [
            "\u001b[?25l   \u001b[90m━━━━━━━━━━━━━━━━━━━━━━━━━━━━━━━━━━━━━━━━\u001b[0m \u001b[32m0.0/49.6 kB\u001b[0m \u001b[31m?\u001b[0m eta \u001b[36m-:--:--\u001b[0m\r\u001b[2K   \u001b[90m━━━━━━━━━━━━━━━━━━━━━━━━━━━━━━━━━━━━━━━━\u001b[0m \u001b[32m49.6/49.6 kB\u001b[0m \u001b[31m3.2 MB/s\u001b[0m eta \u001b[36m0:00:00\u001b[0m\n",
            "\u001b[?25h\u001b[?25l   \u001b[90m━━━━━━━━━━━━━━━━━━━━━━━━━━━━━━━━━━━━━━━━\u001b[0m \u001b[32m0.0/44.0 kB\u001b[0m \u001b[31m?\u001b[0m eta \u001b[36m-:--:--\u001b[0m\r\u001b[2K   \u001b[90m━━━━━━━━━━━━━━━━━━━━━━━━━━━━━━━━━━━━━━━━\u001b[0m \u001b[32m44.0/44.0 kB\u001b[0m \u001b[31m2.3 MB/s\u001b[0m eta \u001b[36m0:00:00\u001b[0m\n",
            "\u001b[?25h\u001b[?25l   \u001b[90m━━━━━━━━━━━━━━━━━━━━━━━━━━━━━━━━━━━━━━━━\u001b[0m \u001b[32m0.0/233.1 kB\u001b[0m \u001b[31m?\u001b[0m eta \u001b[36m-:--:--\u001b[0m\r\u001b[2K   \u001b[90m━━━━━━━━━━━━━━━━━━━━━━━━━━━━━━━━━━━━━━━━\u001b[0m \u001b[32m233.1/233.1 kB\u001b[0m \u001b[31m8.0 MB/s\u001b[0m eta \u001b[36m0:00:00\u001b[0m\n",
            "\u001b[2K   \u001b[90m━━━━━━━━━━━━━━━━━━━━━━━━━━━━━━━━━━━━━━━━\u001b[0m \u001b[32m378.1/378.1 kB\u001b[0m \u001b[31m15.9 MB/s\u001b[0m eta \u001b[36m0:00:00\u001b[0m\n",
            "\u001b[2K   \u001b[90m━━━━━━━━━━━━━━━━━━━━━━━━━━━━━━━━━━━━━━━━\u001b[0m \u001b[32m1.1/1.1 MB\u001b[0m \u001b[31m37.4 MB/s\u001b[0m eta \u001b[36m0:00:00\u001b[0m\n",
            "\u001b[2K   \u001b[90m━━━━━━━━━━━━━━━━━━━━━━━━━━━━━━━━━━━━━━━━\u001b[0m \u001b[32m139.1/139.1 kB\u001b[0m \u001b[31m8.5 MB/s\u001b[0m eta \u001b[36m0:00:00\u001b[0m\n",
            "\u001b[2K   \u001b[90m━━━━━━━━━━━━━━━━━━━━━━━━━━━━━━━━━━━━━━━━\u001b[0m \u001b[32m3.1/3.1 MB\u001b[0m \u001b[31m58.2 MB/s\u001b[0m eta \u001b[36m0:00:00\u001b[0m\n",
            "\u001b[2K   \u001b[90m━━━━━━━━━━━━━━━━━━━━━━━━━━━━━━━━━━━━━━━━\u001b[0m \u001b[32m318.9/318.9 kB\u001b[0m \u001b[31m16.9 MB/s\u001b[0m eta \u001b[36m0:00:00\u001b[0m\n",
            "\u001b[2K   \u001b[90m━━━━━━━━━━━━━━━━━━━━━━━━━━━━━━━━━━━━━━━━\u001b[0m \u001b[32m12.6/12.6 MB\u001b[0m \u001b[31m63.4 MB/s\u001b[0m eta \u001b[36m0:00:00\u001b[0m\n",
            "\u001b[2K   \u001b[90m━━━━━━━━━━━━━━━━━━━━━━━━━━━━━━━━━━━━━━━━\u001b[0m \u001b[32m82.7/82.7 kB\u001b[0m \u001b[31m5.2 MB/s\u001b[0m eta \u001b[36m0:00:00\u001b[0m\n",
            "\u001b[?25h"
          ]
        }
      ],
      "source": [
        "#!pip install -qU langchain langchain-openai langchain-cohere rank_bm25"
      ]
    },
    {
      "cell_type": "markdown",
      "metadata": {
        "id": "dKqYM4Eoxcov"
      },
      "source": [
        "We're also going to be leveraging [Qdrant's](https://qdrant.tech/documentation/frameworks/langchain/) (pronounced \"Quadrant\") VectorDB in \"memory\" mode (so we can leverage it locally in our colab environment)."
      ]
    },
    {
      "cell_type": "code",
      "execution_count": null,
      "metadata": {
        "id": "s6xav5CxYnML"
      },
      "outputs": [],
      "source": [
        "#!pip install -qU qdrant-client"
      ]
    },
    {
      "cell_type": "markdown",
      "metadata": {
        "id": "Z7OHJXzfyJyA"
      },
      "source": [
        "We'll also provide our OpenAI key, as well as our Cohere API key."
      ]
    },
    {
      "cell_type": "code",
      "execution_count": 10,
      "metadata": {
        "colab": {
          "base_uri": "https://localhost:8080/"
        },
        "id": "7LttlDQUYgSI",
        "outputId": "9dca95ab-4d02-4adf-ec3f-cb831326dc54"
      },
      "outputs": [],
      "source": [
        "import os\n",
        "import getpass\n",
        "\n",
        "os.environ[\"OPENAI_API_KEY\"] = getpass.getpass(\"Enter your OpenAI API Key:\")"
      ]
    },
    {
      "cell_type": "code",
      "execution_count": 4,
      "metadata": {
        "colab": {
          "base_uri": "https://localhost:8080/"
        },
        "id": "3iUahNiJyQbv",
        "outputId": "78bf06ef-2ee8-46c3-f73d-27958b4dd79b"
      },
      "outputs": [],
      "source": [
        "os.environ[\"COHERE_API_KEY\"] = getpass.getpass(\"Cohere API Key:\")"
      ]
    },
    {
      "cell_type": "markdown",
      "metadata": {
        "id": "B0pDRFEWSXvh"
      },
      "source": []
    },
    {
      "cell_type": "markdown",
      "metadata": {
        "id": "mw304iAFyRtl"
      },
      "source": [
        "## Task 2: Data Collection and Preparation\n",
        "\n",
        "We'll be using some reviews from the 4 movies in the John Wick franchise today to explore the different retrieval strategies.\n",
        "\n",
        "These were obtained from IMDB, and are available in the [AIM Data Repository](https://github.com/AI-Maker-Space/DataRepository)."
      ]
    },
    {
      "cell_type": "markdown",
      "metadata": {
        "id": "xXKHcZmKzDwT"
      },
      "source": [
        "### Data Collection\n",
        "\n",
        "We can simply `wget` these from GitHub.\n",
        "\n",
        "You could use any review data you wanted in this step - just be careful to make sure your metadata is aligned with your choice."
      ]
    },
    {
      "cell_type": "code",
      "execution_count": 5,
      "metadata": {
        "colab": {
          "base_uri": "https://localhost:8080/"
        },
        "id": "vbbSIGtzX3dS",
        "outputId": "0ce6514e-2479-4001-af24-824f987ce599"
      },
      "outputs": [
        {
          "name": "stdout",
          "output_type": "stream",
          "text": [
            "--2025-05-21 16:21:58--  https://raw.githubusercontent.com/AI-Maker-Space/DataRepository/main/jw1.csv\n",
            "Resolving raw.githubusercontent.com (raw.githubusercontent.com)... 2606:50c0:8002::154, 2606:50c0:8000::154, 2606:50c0:8001::154, ...\n",
            "Connecting to raw.githubusercontent.com (raw.githubusercontent.com)|2606:50c0:8002::154|:443... connected.\n",
            "HTTP request sent, awaiting response... 200 OK\n",
            "Length: 19628 (19K) [text/plain]\n",
            "Saving to: ‘john_wick_1.csv’\n",
            "\n",
            "john_wick_1.csv     100%[===================>]  19.17K  --.-KB/s    in 0.001s  \n",
            "\n",
            "2025-05-21 16:21:58 (12.8 MB/s) - ‘john_wick_1.csv’ saved [19628/19628]\n",
            "\n",
            "--2025-05-21 16:21:58--  https://raw.githubusercontent.com/AI-Maker-Space/DataRepository/main/jw2.csv\n",
            "Resolving raw.githubusercontent.com (raw.githubusercontent.com)... 2606:50c0:8002::154, 2606:50c0:8000::154, 2606:50c0:8001::154, ...\n",
            "Connecting to raw.githubusercontent.com (raw.githubusercontent.com)|2606:50c0:8002::154|:443... connected.\n",
            "HTTP request sent, awaiting response... 200 OK\n",
            "Length: 14747 (14K) [text/plain]\n",
            "Saving to: ‘john_wick_2.csv’\n",
            "\n",
            "john_wick_2.csv     100%[===================>]  14.40K  --.-KB/s    in 0s      \n",
            "\n",
            "2025-05-21 16:21:59 (100 MB/s) - ‘john_wick_2.csv’ saved [14747/14747]\n",
            "\n",
            "--2025-05-21 16:21:59--  https://raw.githubusercontent.com/AI-Maker-Space/DataRepository/main/jw3.csv\n",
            "Resolving raw.githubusercontent.com (raw.githubusercontent.com)... 2606:50c0:8002::154, 2606:50c0:8000::154, 2606:50c0:8001::154, ...\n",
            "Connecting to raw.githubusercontent.com (raw.githubusercontent.com)|2606:50c0:8002::154|:443... connected.\n",
            "HTTP request sent, awaiting response... 200 OK\n",
            "Length: 13888 (14K) [text/plain]\n",
            "Saving to: ‘john_wick_3.csv’\n",
            "\n",
            "john_wick_3.csv     100%[===================>]  13.56K  --.-KB/s    in 0s      \n",
            "\n",
            "2025-05-21 16:21:59 (30.7 MB/s) - ‘john_wick_3.csv’ saved [13888/13888]\n",
            "\n",
            "--2025-05-21 16:21:59--  https://raw.githubusercontent.com/AI-Maker-Space/DataRepository/main/jw4.csv\n",
            "Resolving raw.githubusercontent.com (raw.githubusercontent.com)... 2606:50c0:8002::154, 2606:50c0:8000::154, 2606:50c0:8001::154, ...\n",
            "Connecting to raw.githubusercontent.com (raw.githubusercontent.com)|2606:50c0:8002::154|:443... connected.\n",
            "HTTP request sent, awaiting response... 200 OK\n",
            "Length: 15109 (15K) [text/plain]\n",
            "Saving to: ‘john_wick_4.csv’\n",
            "\n",
            "john_wick_4.csv     100%[===================>]  14.75K  --.-KB/s    in 0s      \n",
            "\n",
            "2025-05-21 16:22:00 (72.4 MB/s) - ‘john_wick_4.csv’ saved [15109/15109]\n",
            "\n"
          ]
        }
      ],
      "source": [
        "!wget https://raw.githubusercontent.com/AI-Maker-Space/DataRepository/main/jw1.csv -O john_wick_1.csv\n",
        "!wget https://raw.githubusercontent.com/AI-Maker-Space/DataRepository/main/jw2.csv -O john_wick_2.csv\n",
        "!wget https://raw.githubusercontent.com/AI-Maker-Space/DataRepository/main/jw3.csv -O john_wick_3.csv\n",
        "!wget https://raw.githubusercontent.com/AI-Maker-Space/DataRepository/main/jw4.csv -O john_wick_4.csv"
      ]
    },
    {
      "cell_type": "markdown",
      "metadata": {
        "id": "A92NC2QZzCsi"
      },
      "source": [
        "### Data Preparation\n",
        "\n",
        "We want to make sure all our documents have the relevant metadata for the various retrieval strategies we're going to be applying today.\n",
        "\n",
        "- Self-Query: Wants as much metadata as we can provide\n",
        "- Time-weighted: Wants temporal data\n",
        "\n",
        "> NOTE: While we're creating a temporal relationship based on when these movies came out for illustrative purposes, it needs to be clear that the \"time-weighting\" in the Time-weighted Retriever is based on when the document was *accessed* last - not when it was created."
      ]
    },
    {
      "cell_type": "code",
      "execution_count": 6,
      "metadata": {
        "id": "GshBjVRJZ6p8"
      },
      "outputs": [],
      "source": [
        "from langchain_community.document_loaders.csv_loader import CSVLoader\n",
        "from datetime import datetime, timedelta\n",
        "\n",
        "documents = []\n",
        "\n",
        "for i in range(1, 5):\n",
        "  loader = CSVLoader(\n",
        "      file_path=f\"john_wick_{i}.csv\",\n",
        "      metadata_columns=[\"Review_Date\", \"Review_Title\", \"Review_Url\", \"Author\", \"Rating\"]\n",
        "  )\n",
        "\n",
        "  movie_docs = loader.load()\n",
        "  for doc in movie_docs:\n",
        "\n",
        "    # Add the \"Movie Title\" (John Wick 1, 2, ...)\n",
        "    doc.metadata[\"Movie_Title\"] = f\"John Wick {i}\"\n",
        "\n",
        "    # convert \"Rating\" to an `int`, if no rating is provided - assume 0 rating\n",
        "    doc.metadata[\"Rating\"] = int(doc.metadata[\"Rating\"]) if doc.metadata[\"Rating\"] else 0\n",
        "\n",
        "    # newer movies have a more recent \"last_accessed_at\"\n",
        "    doc.metadata[\"last_accessed_at\"] = datetime.now() - timedelta(days=4-i)\n",
        "\n",
        "  documents.extend(movie_docs)"
      ]
    },
    {
      "cell_type": "markdown",
      "metadata": {
        "id": "9gQphb6y0C0S"
      },
      "source": [
        "Let's look at an example document to see if everything worked as expected!"
      ]
    },
    {
      "cell_type": "code",
      "execution_count": 7,
      "metadata": {
        "colab": {
          "base_uri": "https://localhost:8080/"
        },
        "id": "PkUkCf7DaMiq",
        "outputId": "e90bd5da-1d87-423b-838a-cb6efc16b199"
      },
      "outputs": [
        {
          "data": {
            "text/plain": [
              "Document(metadata={'source': 'john_wick_1.csv', 'row': 0, 'Review_Date': '6 May 2015', 'Review_Title': ' Kinetic, concise, and stylish; John Wick kicks ass.\\n', 'Review_Url': '/review/rw3233896/?ref_=tt_urv', 'Author': 'lnvicta', 'Rating': 8, 'Movie_Title': 'John Wick 1', 'last_accessed_at': datetime.datetime(2025, 5, 18, 16, 22, 20, 423106)}, page_content=\": 0\\nReview: The best way I can describe John Wick is to picture Taken but instead of Liam Neeson it's Keanu Reeves and instead of his daughter it's his dog. That's essentially the plot of the movie. John Wick (Reeves) is out to seek revenge on the people who took something he loved from him. It's a beautifully simple premise for an action movie - when action movies get convoluted, they get bad i.e. A Good Day to Die Hard. John Wick gives the viewers what they want: Awesome action, stylish stunts, kinetic chaos, and a relatable hero to tie it all together. John Wick succeeds in its simplicity.\")"
            ]
          },
          "execution_count": 7,
          "metadata": {},
          "output_type": "execute_result"
        }
      ],
      "source": [
        "documents[0]"
      ]
    },
    {
      "cell_type": "markdown",
      "metadata": {
        "id": "lWaQpdHl0Gzc"
      },
      "source": [
        "## Task 3: Setting up QDrant!\n",
        "\n",
        "Now that we have our documents, let's create a QDrant VectorStore with the collection name \"JohnWick\".\n",
        "\n",
        "We'll leverage OpenAI's [`text-embedding-3-small`](https://openai.com/blog/new-embedding-models-and-api-updates) because it's a very powerful (and low-cost) embedding model.\n",
        "\n",
        "> NOTE: We'll be creating additional vectorstores where necessary, but this pattern is still extremely useful."
      ]
    },
    {
      "cell_type": "code",
      "execution_count": 11,
      "metadata": {
        "id": "NT8ihRJbYmMT"
      },
      "outputs": [],
      "source": [
        "from langchain_community.vectorstores import Qdrant\n",
        "from langchain_openai import OpenAIEmbeddings\n",
        "\n",
        "embeddings = OpenAIEmbeddings(model=\"text-embedding-3-small\")\n",
        "\n",
        "vectorstore = Qdrant.from_documents(\n",
        "    documents,\n",
        "    embeddings,\n",
        "    location=\":memory:\",\n",
        "    collection_name=\"JohnWick\"\n",
        ")"
      ]
    },
    {
      "cell_type": "markdown",
      "metadata": {
        "id": "-x2SS4Rh0hiN"
      },
      "source": [
        "## Task 4: Naive RAG Chain\n",
        "\n",
        "Since we're focusing on the \"R\" in RAG today - we'll create our Retriever first."
      ]
    },
    {
      "cell_type": "markdown",
      "metadata": {
        "id": "NEH7X5Ai08FH"
      },
      "source": [
        "### R - Retrieval\n",
        "\n",
        "This naive retriever will simply look at each review as a document, and use cosine-similarity to fetch the 10 most relevant documents.\n",
        "\n",
        "> NOTE: We're choosing `10` as our `k` here to provide enough documents for our reranking process later"
      ]
    },
    {
      "cell_type": "code",
      "execution_count": 12,
      "metadata": {
        "id": "GFDPrNBtb72o"
      },
      "outputs": [],
      "source": [
        "naive_retriever = vectorstore.as_retriever(search_kwargs={\"k\" : 10})"
      ]
    },
    {
      "cell_type": "markdown",
      "metadata": {
        "id": "MbBhyQjz06dx"
      },
      "source": [
        "### A - Augmented\n",
        "\n",
        "We're going to go with a standard prompt for our simple RAG chain today! Nothing fancy here, we want this to mostly be about the Retrieval process."
      ]
    },
    {
      "cell_type": "code",
      "execution_count": 14,
      "metadata": {
        "id": "7uSz-Dbqcoki"
      },
      "outputs": [],
      "source": [
        "from langchain_core.prompts import ChatPromptTemplate\n",
        "\n",
        "RAG_TEMPLATE = \"\"\"\\\n",
        "You are a helpful and kind assistant. Use the context provided below to answer the question.\n",
        "\n",
        "If you do not know the answer, or are unsure, say you don't know.\n",
        "\n",
        "Query:\n",
        "{question}\n",
        "\n",
        "Context:\n",
        "{context}\n",
        "\"\"\"\n",
        "\n",
        "rag_prompt = ChatPromptTemplate.from_template(RAG_TEMPLATE)"
      ]
    },
    {
      "cell_type": "markdown",
      "metadata": {
        "id": "BlRzpb231GGJ"
      },
      "source": [
        "### G - Generation\n",
        "\n",
        "We're going to leverage `gpt-4.1-nano` as our LLM today, as - again - we want this to largely be about the Retrieval process."
      ]
    },
    {
      "cell_type": "code",
      "execution_count": 15,
      "metadata": {
        "id": "c-1t9H60dJLg"
      },
      "outputs": [],
      "source": [
        "from langchain_openai import ChatOpenAI\n",
        "\n",
        "chat_model = ChatOpenAI(model=\"gpt-4.1-nano\")\n"
      ]
    },
    {
      "cell_type": "markdown",
      "metadata": {
        "id": "mg3QRGzA1M2x"
      },
      "source": [
        "### LCEL RAG Chain\n",
        "\n",
        "We're going to use LCEL to construct our chain.\n",
        "\n",
        "> NOTE: This chain will be exactly the same across the various examples with the exception of our Retriever!"
      ]
    },
    {
      "cell_type": "code",
      "execution_count": 16,
      "metadata": {
        "id": "0bvstS7mdOW3"
      },
      "outputs": [],
      "source": [
        "from langchain_core.runnables import RunnablePassthrough\n",
        "from operator import itemgetter\n",
        "from langchain_core.output_parsers import StrOutputParser\n",
        "\n",
        "naive_retrieval_chain = (\n",
        "    # INVOKE CHAIN WITH: {\"question\" : \"<<SOME USER QUESTION>>\"}\n",
        "    # \"question\" : populated by getting the value of the \"question\" key\n",
        "    # \"context\"  : populated by getting the value of the \"question\" key and chaining it into the base_retriever\n",
        "    {\"context\": itemgetter(\"question\") | naive_retriever, \"question\": itemgetter(\"question\")}\n",
        "    # \"context\"  : is assigned to a RunnablePassthrough object (will not be called or considered in the next step)\n",
        "    #              by getting the value of the \"context\" key from the previous step\n",
        "    | RunnablePassthrough.assign(context=itemgetter(\"context\"))\n",
        "    # \"response\" : the \"context\" and \"question\" values are used to format our prompt object and then piped\n",
        "    #              into the LLM and stored in a key called \"response\"\n",
        "    # \"context\"  : populated by getting the value of the \"context\" key from the previous step\n",
        "    | {\"response\": rag_prompt | chat_model, \"context\": itemgetter(\"context\")}\n",
        ")"
      ]
    },
    {
      "cell_type": "markdown",
      "metadata": {
        "id": "izKujhNb1ZG8"
      },
      "source": [
        "Let's see how this simple chain does on a few different prompts.\n",
        "\n",
        "> NOTE: You might think that we've cherry picked prompts that showcase the individual skill of each of the retrieval strategies - you'd be correct!"
      ]
    },
    {
      "cell_type": "code",
      "execution_count": 17,
      "metadata": {
        "colab": {
          "base_uri": "https://localhost:8080/",
          "height": 36
        },
        "id": "LI-5ueEddku9",
        "outputId": "7f3cec18-5f4e-41bb-cf71-51ba0be5388e"
      },
      "outputs": [
        {
          "data": {
            "text/plain": [
              "\"Based on the reviews provided, people generally liked John Wick. Many reviews are quite positive, highlighting its stylish action sequences, engaging storytelling, and Keanu Reeves' performance. Several reviews give high ratings, such as 9 or 10 out of 10, and describe the film as fun, exciting, and a standout in the action genre. However, there are a few mixed or less enthusiastic opinions, with some ratings around the middle or slightly below average, but overall, the general consensus appears to be favorable.\""
            ]
          },
          "execution_count": 17,
          "metadata": {},
          "output_type": "execute_result"
        }
      ],
      "source": [
        "naive_retrieval_chain.invoke({\"question\" : \"Did people generally like John Wick?\"})[\"response\"].content"
      ]
    },
    {
      "cell_type": "code",
      "execution_count": 18,
      "metadata": {
        "colab": {
          "base_uri": "https://localhost:8080/",
          "height": 36
        },
        "id": "43zdcdUydtXh",
        "outputId": "db874e67-f568-4ed1-b863-b7c17b387052"
      },
      "outputs": [
        {
          "data": {
            "text/plain": [
              "'Yes, there are reviews with a rating of 10. The URLs for those reviews are:\\n\\n1. /review/rw4854296/?ref_=tt_urv\\n2. /review/rw8944843/?ref_=tt_urv'"
            ]
          },
          "execution_count": 18,
          "metadata": {},
          "output_type": "execute_result"
        }
      ],
      "source": [
        "naive_retrieval_chain.invoke({\"question\" : \"Do any reviews have a rating of 10? If so - can I have the URLs to those reviews?\"})[\"response\"].content"
      ]
    },
    {
      "cell_type": "code",
      "execution_count": 19,
      "metadata": {
        "colab": {
          "base_uri": "https://localhost:8080/",
          "height": 70
        },
        "id": "lpG6rlvvvKFq",
        "outputId": "a1b330b0-628e-41be-d829-9c1d55e781f5"
      },
      "outputs": [
        {
          "data": {
            "text/plain": [
              "\"In the John Wick film series, the story centers around John Wick, a retired hitman who is drawn back into the violent underworld of assassins after the death of his wife and the theft of his car and the killing of his dog—his last connection to his wife. The first movie depicts his relentless quest for vengeance against gangsters who wronged him, unleashing a series of spectacular and brutal action sequences. As the series progresses, the story expands to explore the complex rules of the assassin world, the consequences of Wick's past actions, and his battles against various criminal factions, all depicted through stylish and meticulously choreographed combat scenes.\""
            ]
          },
          "execution_count": 19,
          "metadata": {},
          "output_type": "execute_result"
        }
      ],
      "source": [
        "naive_retrieval_chain.invoke({\"question\" : \"What happened in John Wick?\"})[\"response\"].content"
      ]
    },
    {
      "cell_type": "markdown",
      "metadata": {
        "id": "jsbfQmbr1leg"
      },
      "source": [
        "Overall, this is not bad! Let's see if we can make it better!"
      ]
    },
    {
      "cell_type": "markdown",
      "metadata": {
        "id": "Ft1vt8HPR16w"
      },
      "source": [
        "## Task 5: Best-Matching 25 (BM25) Retriever\n",
        "\n",
        "Taking a step back in time - [BM25](https://www.nowpublishers.com/article/Details/INR-019) is based on [Bag-Of-Words](https://en.wikipedia.org/wiki/Bag-of-words_model) which is a sparse representation of text.\n",
        "\n",
        "In essence, it's a way to compare how similar two pieces of text are based on the words they both contain.\n",
        "\n",
        "This retriever is very straightforward to set-up! Let's see it happen down below!\n"
      ]
    },
    {
      "cell_type": "code",
      "execution_count": 20,
      "metadata": {
        "id": "qdF4wuj5R-cG"
      },
      "outputs": [],
      "source": [
        "from langchain_community.retrievers import BM25Retriever\n",
        "\n",
        "bm25_retriever = BM25Retriever.from_documents(documents)"
      ]
    },
    {
      "cell_type": "markdown",
      "metadata": {
        "id": "KIjJlBQ8drKH"
      },
      "source": [
        "We'll construct the same chain - only changing the retriever."
      ]
    },
    {
      "cell_type": "code",
      "execution_count": 21,
      "metadata": {
        "id": "WR15EQG7SLuw"
      },
      "outputs": [],
      "source": [
        "bm25_retrieval_chain = (\n",
        "    {\"context\": itemgetter(\"question\") | bm25_retriever, \"question\": itemgetter(\"question\")}\n",
        "    | RunnablePassthrough.assign(context=itemgetter(\"context\"))\n",
        "    | {\"response\": rag_prompt | chat_model, \"context\": itemgetter(\"context\")}\n",
        ")"
      ]
    },
    {
      "cell_type": "markdown",
      "metadata": {
        "id": "0Gi-yXCDdvJk"
      },
      "source": [
        "Let's look at the responses!"
      ]
    },
    {
      "cell_type": "code",
      "execution_count": 22,
      "metadata": {
        "colab": {
          "base_uri": "https://localhost:8080/",
          "height": 53
        },
        "id": "oY9qzmm3SOrF",
        "outputId": "4d4f450f-5978-460f-f242-b32407868353"
      },
      "outputs": [
        {
          "data": {
            "text/plain": [
              "'Based on the reviews provided, opinions about people generally liking John Wick are mixed. Some reviews highly praise the first film for its stylish action and engaging world-building, indicating that many fans enjoyed it. However, later reviews, such as those for the third and fourth installments, are quite negative, criticizing the movies for being shallow, overly violent, and lacking plot. \\n\\nOverall, it seems that while many people liked John Wick, especially the first movie, there are also significant opinions that do not favor the franchise, especially as the series progresses. Therefore, people’s overall liking of John Wick varies, and it cannot be said that they generally liked it across the board.'"
            ]
          },
          "execution_count": 22,
          "metadata": {},
          "output_type": "execute_result"
        }
      ],
      "source": [
        "bm25_retrieval_chain.invoke({\"question\" : \"Did people generally like John Wick?\"})[\"response\"].content"
      ]
    },
    {
      "cell_type": "code",
      "execution_count": 23,
      "metadata": {
        "colab": {
          "base_uri": "https://localhost:8080/",
          "height": 36
        },
        "id": "igfinyneSQkh",
        "outputId": "9752d4a9-dd16-45b1-f63f-a76e93a05eb3"
      },
      "outputs": [
        {
          "data": {
            "text/plain": [
              "'Based on the provided reviews, none of the reviews have a rating of 10. The highest ratings mentioned are 9.'"
            ]
          },
          "execution_count": 23,
          "metadata": {},
          "output_type": "execute_result"
        }
      ],
      "source": [
        "bm25_retrieval_chain.invoke({\"question\" : \"Do any reviews have a rating of 10? If so - can I have the URLs to those reviews?\"})[\"response\"].content"
      ]
    },
    {
      "cell_type": "code",
      "execution_count": 24,
      "metadata": {
        "colab": {
          "base_uri": "https://localhost:8080/",
          "height": 53
        },
        "id": "w0H7pV_USSMQ",
        "outputId": "bdead654-3109-4143-9a30-e1d6ca8dc534"
      },
      "outputs": [
        {
          "data": {
            "text/plain": [
              "\"In the John Wick film series, the story revolves around John Wick, a skilled assassin who seeks vengeance after a personal loss. The movies depict his action-packed journey through a dangerous underworld filled with assassins, gangsters, and criminal organizations. Each installment features intense, choreographed action sequences, a complex network of assassin codes and politics, and explores Wick's struggle to escape his violent past. The series is known for its stylish combat scenes, world-building, and Keanu Reeves' portrayal of the titular character.\""
            ]
          },
          "execution_count": 24,
          "metadata": {},
          "output_type": "execute_result"
        }
      ],
      "source": [
        "bm25_retrieval_chain.invoke({\"question\" : \"What happened in John Wick?\"})[\"response\"].content"
      ]
    },
    {
      "cell_type": "markdown",
      "metadata": {
        "id": "zvg5xHaUdxCl"
      },
      "source": [
        "It's not clear that this is better or worse - but the `I don't know` isn't great!"
      ]
    },
    {
      "cell_type": "markdown",
      "metadata": {
        "id": "Q-dcbFn2vpZF"
      },
      "source": [
        "## Task 6: Contextual Compression (Using Reranking)\n",
        "\n",
        "Contextual Compression is a fairly straightforward idea: We want to \"compress\" our retrieved context into just the most useful bits.\n",
        "\n",
        "There are a few ways we can achieve this - but we're going to look at a specific example called reranking.\n",
        "\n",
        "The basic idea here is this:\n",
        "\n",
        "- We retrieve lots of documents that are very likely related to our query vector\n",
        "- We \"compress\" those documents into a smaller set of *more* related documents using a reranking algorithm.\n",
        "\n",
        "We'll be leveraging Cohere's Rerank model for our reranker today!\n",
        "\n",
        "All we need to do is the following:\n",
        "\n",
        "- Create a basic retriever\n",
        "- Create a compressor (reranker, in this case)\n",
        "\n",
        "That's it!\n",
        "\n",
        "Let's see it in the code below!"
      ]
    },
    {
      "cell_type": "code",
      "execution_count": 25,
      "metadata": {
        "id": "psHvO2K1v_ZQ"
      },
      "outputs": [],
      "source": [
        "from langchain.retrievers.contextual_compression import ContextualCompressionRetriever\n",
        "from langchain_cohere import CohereRerank\n",
        "\n",
        "compressor = CohereRerank(model=\"rerank-english-v3.0\")\n",
        "compression_retriever = ContextualCompressionRetriever(\n",
        "    base_compressor=compressor, base_retriever=naive_retriever\n",
        ")"
      ]
    },
    {
      "cell_type": "markdown",
      "metadata": {
        "id": "_TA9RB2x-j7P"
      },
      "source": [
        "Let's create our chain again, and see how this does!"
      ]
    },
    {
      "cell_type": "code",
      "execution_count": 26,
      "metadata": {
        "id": "1BXqmxvHwX6T"
      },
      "outputs": [],
      "source": [
        "contextual_compression_retrieval_chain = (\n",
        "    {\"context\": itemgetter(\"question\") | compression_retriever, \"question\": itemgetter(\"question\")}\n",
        "    | RunnablePassthrough.assign(context=itemgetter(\"context\"))\n",
        "    | {\"response\": rag_prompt | chat_model, \"context\": itemgetter(\"context\")}\n",
        ")"
      ]
    },
    {
      "cell_type": "code",
      "execution_count": 27,
      "metadata": {
        "colab": {
          "base_uri": "https://localhost:8080/",
          "height": 36
        },
        "id": "V3iGpokswcBb",
        "outputId": "f15d2aa1-5e8b-417d-f623-eb835d072e59"
      },
      "outputs": [
        {
          "data": {
            "text/plain": [
              "'Based on the reviews provided, people generally liked John Wick. The film received high ratings and positive comments, praising its style, action sequences, and Keanu Reeves\\' performance. For example, one reviewer gave it a 9 out of 10 and called it \"the coolest action film you\\'ll see all year,\" while another gave it a perfect 10 and described it as \"smoothest action film to come around in a long time.\" Overall, the reception appears to be very favorable.'"
            ]
          },
          "execution_count": 27,
          "metadata": {},
          "output_type": "execute_result"
        }
      ],
      "source": [
        "contextual_compression_retrieval_chain.invoke({\"question\" : \"Did people generally like John Wick?\"})[\"response\"].content"
      ]
    },
    {
      "cell_type": "code",
      "execution_count": 28,
      "metadata": {
        "colab": {
          "base_uri": "https://localhost:8080/",
          "height": 53
        },
        "id": "7u_k0i4OweUd",
        "outputId": "be5fccc8-2352-4189-c524-bbeaa28cf799"
      },
      "outputs": [
        {
          "data": {
            "text/plain": [
              "'Yes, there are reviews with a rating of 10. Here are the URLs to those reviews:\\n\\n1. Review Title: \"A Masterpiece & Brilliant Sequel\"  \\n   URL: /review/rw4854296/?ref_=tt_urv\\n\\n2. Review Title: \"Most American action flicks released these days have poor screenplays and overuse computer-generated imagery.\"  \\n   URL: /review/rw4860412/?ref_=tt_urv'"
            ]
          },
          "execution_count": 28,
          "metadata": {},
          "output_type": "execute_result"
        }
      ],
      "source": [
        "contextual_compression_retrieval_chain.invoke({\"question\" : \"Do any reviews have a rating of 10? If so - can I have the URLs to those reviews?\"})[\"response\"].content"
      ]
    },
    {
      "cell_type": "code",
      "execution_count": 29,
      "metadata": {
        "colab": {
          "base_uri": "https://localhost:8080/",
          "height": 70
        },
        "id": "zn1EqaGqweXN",
        "outputId": "42bc5972-4164-46eb-f49d-4272f39bb89b"
      },
      "outputs": [
        {
          "data": {
            "text/plain": [
              "\"In the John Wick films, John Wick is a retired hitman who is drawn back into a violent underworld after a series of personal tragedies and conflicts. In the first film, he seeks revenge after gangsters steal his car and kill his dog, which was a gift from his deceased wife. As he pursues vengeance, Wick unleashes a relentless wave of destruction against those who have wronged him, becoming the target of numerous professional killers. \\n\\nIn the second film, after addressing issues with the Russian mafia, Wick is approached by Santino D'Antonio, who demands his help with a task involving a secret marker. Wick refuses, leading to his house being blown up. Subsequently, Wick is forced to carry out an assignment in Rome to help Santino, which results in a contract being put on him. The plot thickens as Wick fights to survive against many enemies, leading him to vow to kill Santino in revenge.\\n\\nOverall, the series portrays John Wick as a highly skilled, relentless assassin caught in a violent world driven by loyalty, rules, and revenge.\""
            ]
          },
          "execution_count": 29,
          "metadata": {},
          "output_type": "execute_result"
        }
      ],
      "source": [
        "contextual_compression_retrieval_chain.invoke({\"question\" : \"What happened in John Wick?\"})[\"response\"].content"
      ]
    },
    {
      "cell_type": "markdown",
      "metadata": {
        "id": "OEbT0g2S-mZ4"
      },
      "source": [
        "We'll need to rely on something like Ragas to help us get a better sense of how this is performing overall - but it \"feels\" better!"
      ]
    },
    {
      "cell_type": "markdown",
      "metadata": {
        "id": "qqbghrBEQNn5"
      },
      "source": [
        "## Task 7: Multi-Query Retriever\n",
        "\n",
        "Typically in RAG we have a single query - the one provided by the user.\n",
        "\n",
        "What if we had....more than one query!\n",
        "\n",
        "In essence, a Multi-Query Retriever works by:\n",
        "\n",
        "1. Taking the original user query and creating `n` number of new user queries using an LLM.\n",
        "2. Retrieving documents for each query.\n",
        "3. Using all unique retrieved documents as context\n",
        "\n",
        "So, how is it to set-up? Not bad! Let's see it down below!\n",
        "\n"
      ]
    },
    {
      "cell_type": "code",
      "execution_count": 30,
      "metadata": {
        "id": "pfM26ReXQjzU"
      },
      "outputs": [],
      "source": [
        "from langchain.retrievers.multi_query import MultiQueryRetriever\n",
        "\n",
        "multi_query_retriever = MultiQueryRetriever.from_llm(\n",
        "    retriever=naive_retriever, llm=chat_model\n",
        ")"
      ]
    },
    {
      "cell_type": "code",
      "execution_count": 31,
      "metadata": {
        "id": "1vRc129jQ5WW"
      },
      "outputs": [],
      "source": [
        "multi_query_retrieval_chain = (\n",
        "    {\"context\": itemgetter(\"question\") | multi_query_retriever, \"question\": itemgetter(\"question\")}\n",
        "    | RunnablePassthrough.assign(context=itemgetter(\"context\"))\n",
        "    | {\"response\": rag_prompt | chat_model, \"context\": itemgetter(\"context\")}\n",
        ")"
      ]
    },
    {
      "cell_type": "code",
      "execution_count": 32,
      "metadata": {
        "colab": {
          "base_uri": "https://localhost:8080/",
          "height": 53
        },
        "id": "CGgNuOb3Q3M9",
        "outputId": "c5273ecf-da35-40b8-fbdb-0f8beab425f7"
      },
      "outputs": [
        {
          "data": {
            "text/plain": [
              "'Based on the reviews, people generally liked John Wick. The series has received many positive ratings and praise for its action sequences, style, and entertainment value. The first film is often highlighted as a standout, and the franchise as a whole is considered a successful and well-received action series by many viewers.'"
            ]
          },
          "execution_count": 32,
          "metadata": {},
          "output_type": "execute_result"
        }
      ],
      "source": [
        "multi_query_retrieval_chain.invoke({\"question\" : \"Did people generally like John Wick?\"})[\"response\"].content"
      ]
    },
    {
      "cell_type": "code",
      "execution_count": 33,
      "metadata": {
        "colab": {
          "base_uri": "https://localhost:8080/",
          "height": 36
        },
        "id": "aAlSthxrRDBC",
        "outputId": "230ff807-23ae-4d25-8d11-cfdbed0b77cb"
      },
      "outputs": [
        {
          "data": {
            "text/plain": [
              "'Yes, there are reviews with a rating of 10. Here are the URLs to those reviews:\\n- /review/rw4854296/?ref_=tt_urv\\n- /review/rw4855764/?ref_=tt_urv'"
            ]
          },
          "execution_count": 33,
          "metadata": {},
          "output_type": "execute_result"
        }
      ],
      "source": [
        "multi_query_retrieval_chain.invoke({\"question\" : \"Do any reviews have a rating of 10? If so - can I have the URLs to those reviews?\"})[\"response\"].content"
      ]
    },
    {
      "cell_type": "code",
      "execution_count": 34,
      "metadata": {
        "colab": {
          "base_uri": "https://localhost:8080/",
          "height": 88
        },
        "id": "Uv1mpCK8REs4",
        "outputId": "00fbc22a-ed9b-4613-9695-0b179e3f8369"
      },
      "outputs": [
        {
          "data": {
            "text/plain": [
              "\"In the John Wick series, the main character, Keanu Reeves, plays John Wick, a retired assassin who comes out of retirement to seek revenge after personal tragedies. The first film shows how Wick, after losing his wife and having his dog killed by thugs who steal his car, is pushed back into the violent world of assassins. Over subsequent films, Wick is drawn into complex criminal underworld conflicts, taking on multiple enemies, honoring and breaking secret codes, and performing highly choreographed action sequences. The series is known for its stylish violence, world-building, and Keanu Reeves' portrayal of a stoic and lethal hitman.\""
            ]
          },
          "execution_count": 34,
          "metadata": {},
          "output_type": "execute_result"
        }
      ],
      "source": [
        "multi_query_retrieval_chain.invoke({\"question\" : \"What happened in John Wick?\"})[\"response\"].content"
      ]
    },
    {
      "cell_type": "markdown",
      "metadata": {
        "id": "EDEawBf_d_3G"
      },
      "source": [
        "## Task 8: Parent Document Retriever\n",
        "\n",
        "A \"small-to-big\" strategy - the Parent Document Retriever works based on a simple strategy:\n",
        "\n",
        "1. Each un-split \"document\" will be designated as a \"parent document\" (You could use larger chunks of document as well, but our data format allows us to consider the overall document as the parent chunk)\n",
        "2. Store those \"parent documents\" in a memory store (not a VectorStore)\n",
        "3. We will chunk each of those documents into smaller documents, and associate them with their respective parents, and store those in a VectorStore. We'll call those \"child chunks\".\n",
        "4. When we query our Retriever, we will do a similarity search comparing our query vector to the \"child chunks\".\n",
        "5. Instead of returning the \"child chunks\", we'll return their associated \"parent chunks\".\n",
        "\n",
        "Okay, maybe that was a few steps - but the basic idea is this:\n",
        "\n",
        "- Search for small documents\n",
        "- Return big documents\n",
        "\n",
        "The intuition is that we're likely to find the most relevant information by limiting the amount of semantic information that is encoded in each embedding vector - but we're likely to miss relevant surrounding context if we only use that information.\n",
        "\n",
        "Let's start by creating our \"parent documents\" and defining a `RecursiveCharacterTextSplitter`."
      ]
    },
    {
      "cell_type": "code",
      "execution_count": 35,
      "metadata": {
        "id": "qJ53JJuMd_ZH"
      },
      "outputs": [],
      "source": [
        "from langchain.retrievers import ParentDocumentRetriever\n",
        "from langchain.storage import InMemoryStore\n",
        "from langchain_text_splitters import RecursiveCharacterTextSplitter\n",
        "from qdrant_client import QdrantClient, models\n",
        "\n",
        "parent_docs = documents\n",
        "child_splitter = RecursiveCharacterTextSplitter(chunk_size=200)"
      ]
    },
    {
      "cell_type": "markdown",
      "metadata": {
        "id": "oOpXfVUH3gL3"
      },
      "source": [
        "We'll need to set up a new QDrant vectorstore - and we'll use another useful pattern to do so!\n",
        "\n",
        "> NOTE: We are manually defining our embedding dimension, you'll need to change this if you're using a different embedding model."
      ]
    },
    {
      "cell_type": "code",
      "execution_count": 36,
      "metadata": {
        "colab": {
          "base_uri": "https://localhost:8080/"
        },
        "id": "rzFc-_9HlGQ-",
        "outputId": "223662dd-c36f-42f7-d1b0-b086e571484e"
      },
      "outputs": [
        {
          "name": "stderr",
          "output_type": "stream",
          "text": [
            "/var/folders/f7/6j1mkm0j4dx3y7g7y5lvjd600000gn/T/ipykernel_85584/3574430551.py:8: LangChainDeprecationWarning: The class `Qdrant` was deprecated in LangChain 0.0.37 and will be removed in 1.0. An updated version of the class exists in the :class:`~langchain-qdrant package and should be used instead. To use it run `pip install -U :class:`~langchain-qdrant` and import as `from :class:`~langchain_qdrant import Qdrant``.\n",
            "  parent_document_vectorstore = Qdrant(\n"
          ]
        }
      ],
      "source": [
        "client = QdrantClient(location=\":memory:\")\n",
        "\n",
        "client.create_collection(\n",
        "    collection_name=\"full_documents\",\n",
        "    vectors_config=models.VectorParams(size=1536, distance=models.Distance.COSINE)\n",
        ")\n",
        "\n",
        "parent_document_vectorstore = Qdrant(\n",
        "    collection_name=\"full_documents\", embeddings=OpenAIEmbeddings(model=\"text-embedding-3-small\"), client=client\n",
        ")"
      ]
    },
    {
      "cell_type": "markdown",
      "metadata": {
        "id": "sf_g95FA3s6w"
      },
      "source": [
        "Now we can create our `InMemoryStore` that will hold our \"parent documents\" - and build our retriever!"
      ]
    },
    {
      "cell_type": "code",
      "execution_count": 37,
      "metadata": {
        "id": "BpWVjPf4fLUp"
      },
      "outputs": [],
      "source": [
        "store = InMemoryStore()\n",
        "\n",
        "parent_document_retriever = ParentDocumentRetriever(\n",
        "    vectorstore = parent_document_vectorstore,\n",
        "    docstore=store,\n",
        "    child_splitter=child_splitter,\n",
        ")"
      ]
    },
    {
      "cell_type": "markdown",
      "metadata": {
        "id": "KoYmSWfE32Zo"
      },
      "source": [
        "By default, this is empty as we haven't added any documents - let's add some now!"
      ]
    },
    {
      "cell_type": "code",
      "execution_count": 38,
      "metadata": {
        "id": "iQ2ZzfKigMZc"
      },
      "outputs": [],
      "source": [
        "parent_document_retriever.add_documents(parent_docs, ids=None)"
      ]
    },
    {
      "cell_type": "markdown",
      "metadata": {
        "id": "bI7Tip1335rE"
      },
      "source": [
        "We'll create the same chain we did before - but substitute our new `parent_document_retriever`."
      ]
    },
    {
      "cell_type": "code",
      "execution_count": 39,
      "metadata": {
        "id": "Qq_adt2KlSqp"
      },
      "outputs": [],
      "source": [
        "parent_document_retrieval_chain = (\n",
        "    {\"context\": itemgetter(\"question\") | parent_document_retriever, \"question\": itemgetter(\"question\")}\n",
        "    | RunnablePassthrough.assign(context=itemgetter(\"context\"))\n",
        "    | {\"response\": rag_prompt | chat_model, \"context\": itemgetter(\"context\")}\n",
        ")"
      ]
    },
    {
      "cell_type": "markdown",
      "metadata": {
        "id": "jNolUVQb4Apt"
      },
      "source": [
        "Let's give it a whirl!"
      ]
    },
    {
      "cell_type": "code",
      "execution_count": 40,
      "metadata": {
        "colab": {
          "base_uri": "https://localhost:8080/",
          "height": 70
        },
        "id": "TXB5i89Zly5W",
        "outputId": "94c240be-7c5b-4c58-9eee-56d93285a054"
      },
      "outputs": [
        {
          "data": {
            "text/plain": [
              "'Based on the provided reviews, opinions about John Wick are mixed. Some reviewers, like MrHeraclius, highly recommend it and praise its action and emotional depth. Conversely, a review from solidabs gives a very negative opinion of John Wick 4, describing it as \"horrible\" and criticizing its plot and fight scenes. Overall, it seems that people’s opinions vary, with some liking the series and others not enjoying specific installments.'"
            ]
          },
          "execution_count": 40,
          "metadata": {},
          "output_type": "execute_result"
        }
      ],
      "source": [
        "parent_document_retrieval_chain.invoke({\"question\" : \"Did people generally like John Wick?\"})[\"response\"].content"
      ]
    },
    {
      "cell_type": "code",
      "execution_count": 41,
      "metadata": {
        "colab": {
          "base_uri": "https://localhost:8080/",
          "height": 36
        },
        "id": "V5F1T-wNl3cg",
        "outputId": "9b81e72e-5db7-4b8a-b25b-400ea0df5335"
      },
      "outputs": [
        {
          "data": {
            "text/plain": [
              "'Yes, there is a review with a rating of 10. The URL to that review is: /review/rw4854296/?ref_=tt_urv'"
            ]
          },
          "execution_count": 41,
          "metadata": {},
          "output_type": "execute_result"
        }
      ],
      "source": [
        "parent_document_retrieval_chain.invoke({\"question\" : \"Do any reviews have a rating of 10? If so - can I have the URLs to those reviews?\"})[\"response\"].content"
      ]
    },
    {
      "cell_type": "code",
      "execution_count": 42,
      "metadata": {
        "colab": {
          "base_uri": "https://localhost:8080/",
          "height": 70
        },
        "id": "ZqARszGzvGcG",
        "outputId": "8867f83c-db13-4db4-d57f-9bd51d32cd8a"
      },
      "outputs": [
        {
          "data": {
            "text/plain": [
              "'In John Wick, a retired assassin named John Wick, played by Keanu Reeves, comes out of retirement following personal tragedy. The first film begins with the death of his wife and the theft of his car, which prompts him to seek vengeance, ultimately unleashing a violent and relentless series of actions against those who have wronged him. Throughout the series, Wick is depicted as a highly skilled hitman who is drawn back into the assassin world to settle various conflicts, involving many action-packed sequences, shootouts, and fights. The movies depict his journey through a dangerous underworld filled with complex characters and high-stakes confrontations.'"
            ]
          },
          "execution_count": 42,
          "metadata": {},
          "output_type": "execute_result"
        }
      ],
      "source": [
        "parent_document_retrieval_chain.invoke({\"question\" : \"What happened in John Wick?\"})[\"response\"].content"
      ]
    },
    {
      "cell_type": "markdown",
      "metadata": {
        "id": "B41cj42s4DPM"
      },
      "source": [
        "Overall, the performance *seems* largely the same. We can leverage a tool like [Ragas]() to more effectively answer the question about the performance."
      ]
    },
    {
      "cell_type": "markdown",
      "metadata": {
        "id": "VUrIBKl_TwS9"
      },
      "source": [
        "## Task 9: Ensemble Retriever\n",
        "\n",
        "In brief, an Ensemble Retriever simply takes 2, or more, retrievers and combines their retrieved documents based on a rank-fusion algorithm.\n",
        "\n",
        "In this case - we're using the [Reciprocal Rank Fusion](https://plg.uwaterloo.ca/~gvcormac/cormacksigir09-rrf.pdf) algorithm.\n",
        "\n",
        "Setting it up is as easy as providing a list of our desired retrievers - and the weights for each retriever."
      ]
    },
    {
      "cell_type": "code",
      "execution_count": 43,
      "metadata": {
        "id": "8j7jpZsKTxic"
      },
      "outputs": [],
      "source": [
        "from langchain.retrievers import EnsembleRetriever\n",
        "\n",
        "retriever_list = [bm25_retriever, naive_retriever, parent_document_retriever, compression_retriever, multi_query_retriever]\n",
        "equal_weighting = [1/len(retriever_list)] * len(retriever_list)\n",
        "\n",
        "ensemble_retriever = EnsembleRetriever(\n",
        "    retrievers=retriever_list, weights=equal_weighting\n",
        ")"
      ]
    },
    {
      "cell_type": "markdown",
      "metadata": {
        "id": "kpo9Psl5hhJ-"
      },
      "source": [
        "We'll pack *all* of these retrievers together in an ensemble."
      ]
    },
    {
      "cell_type": "code",
      "execution_count": 44,
      "metadata": {
        "id": "KZ__EZwpUKkd"
      },
      "outputs": [],
      "source": [
        "ensemble_retrieval_chain = (\n",
        "    {\"context\": itemgetter(\"question\") | ensemble_retriever, \"question\": itemgetter(\"question\")}\n",
        "    | RunnablePassthrough.assign(context=itemgetter(\"context\"))\n",
        "    | {\"response\": rag_prompt | chat_model, \"context\": itemgetter(\"context\")}\n",
        ")"
      ]
    },
    {
      "cell_type": "markdown",
      "metadata": {
        "id": "SSsvHpRMj24L"
      },
      "source": [
        "Let's look at our results!"
      ]
    },
    {
      "cell_type": "code",
      "execution_count": 45,
      "metadata": {
        "colab": {
          "base_uri": "https://localhost:8080/",
          "height": 70
        },
        "id": "0lMvqL88UQI-",
        "outputId": "d86dd5f7-0a13-4836-c0ce-cc4c431fd889"
      },
      "outputs": [
        {
          "data": {
            "text/plain": [
              "\"Based on the reviews provided, people generally liked John Wick. Many reviews are highly positive, praising its stylish action, choreography, and Keanu Reeves' performance. Some reviews give high ratings like 8 or 9 out of 10, and numerous comments describe the film as fun, exciting, and a standout in the action genre. However, there are some negative opinions as well, especially regarding later sequels, with ratings as low as 1 or 4 out of 10, but overall, the initial reception appears to be quite favorable.\""
            ]
          },
          "execution_count": 45,
          "metadata": {},
          "output_type": "execute_result"
        }
      ],
      "source": [
        "ensemble_retrieval_chain.invoke({\"question\" : \"Did people generally like John Wick?\"})[\"response\"].content"
      ]
    },
    {
      "cell_type": "code",
      "execution_count": 46,
      "metadata": {
        "colab": {
          "base_uri": "https://localhost:8080/",
          "height": 53
        },
        "id": "MNFWLYECURI1",
        "outputId": "b17973b5-66a9-4481-97d5-880b5754b5c5"
      },
      "outputs": [
        {
          "data": {
            "text/plain": [
              "'Yes, there are reviews with a rating of 10. The URLs to those reviews are:\\n\\n1. [Review for John Wick 3](https://example.com/review/rw4854296/?ref_=tt_urv)\\n2. [Review for John Wick 4](https://example.com/review/rw8944843/?ref_=tt_urv)'"
            ]
          },
          "execution_count": 46,
          "metadata": {},
          "output_type": "execute_result"
        }
      ],
      "source": [
        "ensemble_retrieval_chain.invoke({\"question\" : \"Do any reviews have a rating of 10? If so - can I have the URLs to those reviews?\"})[\"response\"].content"
      ]
    },
    {
      "cell_type": "code",
      "execution_count": 47,
      "metadata": {
        "colab": {
          "base_uri": "https://localhost:8080/",
          "height": 88
        },
        "id": "A7qbHfWgUR4c",
        "outputId": "f7373144-59ef-4fc7-b75d-ca00e7df881e"
      },
      "outputs": [
        {
          "data": {
            "text/plain": [
              "'In the John Wick film series, the story centers around John Wick, a retired hitman who comes out of retirement to seek vengeance for the murder of his dog and the theft of his car, which are personal and significant losses. The series explores his journey through a secretive world of assassins, criminal underworlds, and strict rules. As he seeks justice, he faces numerous enemies, bounty hunters, and complex criminal organizations, leading to intense action, elaborate fight sequences, and a story of revenge and consequences. Over the series, his actions have far-reaching effects, and he becomes a legendary figure feared by many in the criminal world.'"
            ]
          },
          "execution_count": 47,
          "metadata": {},
          "output_type": "execute_result"
        }
      ],
      "source": [
        "ensemble_retrieval_chain.invoke({\"question\" : \"What happened in John Wick?\"})[\"response\"].content"
      ]
    },
    {
      "cell_type": "markdown",
      "metadata": {
        "id": "MopbkNJAXVaN"
      },
      "source": [
        "## Task 10: Semantic Chunking\n",
        "\n",
        "While this is not a retrieval method - it *is* an effective way of increasing retrieval performance on corpora that have clean semantic breaks in them.\n",
        "\n",
        "Essentially, Semantic Chunking is implemented by:\n",
        "\n",
        "1. Embedding all sentences in the corpus.\n",
        "2. Combining or splitting sequences of sentences based on their semantic similarity based on a number of [possible thresholding methods](https://python.langchain.com/docs/how_to/semantic-chunker/):\n",
        "  - `percentile`\n",
        "  - `standard_deviation`\n",
        "  - `interquartile`\n",
        "  - `gradient`\n",
        "3. Each sequence of related sentences is kept as a document!\n",
        "\n",
        "Let's see how to implement this!\n",
        "\n",
        "> NOTE: You do not need to run this cell if you're running this locally"
      ]
    },
    {
      "cell_type": "code",
      "execution_count": null,
      "metadata": {
        "colab": {
          "base_uri": "https://localhost:8080/"
        },
        "id": "1dHeB-yGXneL",
        "outputId": "efc59105-518a-4134-9228-d98b8a97e08e"
      },
      "outputs": [
        {
          "name": "stdout",
          "output_type": "stream",
          "text": [
            "\u001b[2K     \u001b[90m━━━━━━━━━━━━━━━━━━━━━━━━━━━━━━━━━━━━━━━━\u001b[0m \u001b[32m50.4/50.4 kB\u001b[0m \u001b[31m1.1 MB/s\u001b[0m eta \u001b[36m0:00:00\u001b[0m\n",
            "\u001b[2K   \u001b[90m━━━━━━━━━━━━━━━━━━━━━━━━━━━━━━━━━━━━━━━━\u001b[0m \u001b[32m208.1/208.1 kB\u001b[0m \u001b[31m7.3 MB/s\u001b[0m eta \u001b[36m0:00:00\u001b[0m\n",
            "\u001b[2K   \u001b[90m━━━━━━━━━━━━━━━━━━━━━━━━━━━━━━━━━━━━━━━━\u001b[0m \u001b[32m2.4/2.4 MB\u001b[0m \u001b[31m40.4 MB/s\u001b[0m eta \u001b[36m0:00:00\u001b[0m\n",
            "\u001b[2K   \u001b[90m━━━━━━━━━━━━━━━━━━━━━━━━━━━━━━━━━━━━━━━━\u001b[0m \u001b[32m399.9/399.9 kB\u001b[0m \u001b[31m17.4 MB/s\u001b[0m eta \u001b[36m0:00:00\u001b[0m\n",
            "\u001b[2K   \u001b[90m━━━━━━━━━━━━━━━━━━━━━━━━━━━━━━━━━━━━━━━━\u001b[0m \u001b[32m1.0/1.0 MB\u001b[0m \u001b[31m32.5 MB/s\u001b[0m eta \u001b[36m0:00:00\u001b[0m\n",
            "\u001b[2K   \u001b[90m━━━━━━━━━━━━━━━━━━━━━━━━━━━━━━━━━━━━━━━━\u001b[0m \u001b[32m292.1/292.1 kB\u001b[0m \u001b[31m15.6 MB/s\u001b[0m eta \u001b[36m0:00:00\u001b[0m\n",
            "\u001b[2K   \u001b[90m━━━━━━━━━━━━━━━━━━━━━━━━━━━━━━━━━━━━━━━━\u001b[0m \u001b[32m76.4/76.4 kB\u001b[0m \u001b[31m4.3 MB/s\u001b[0m eta \u001b[36m0:00:00\u001b[0m\n",
            "\u001b[2K   \u001b[90m━━━━━━━━━━━━━━━━━━━━━━━━━━━━━━━━━━━━━━━━\u001b[0m \u001b[32m77.9/77.9 kB\u001b[0m \u001b[31m4.2 MB/s\u001b[0m eta \u001b[36m0:00:00\u001b[0m\n",
            "\u001b[2K   \u001b[90m━━━━━━━━━━━━━━━━━━━━━━━━━━━━━━━━━━━━━━━━\u001b[0m \u001b[32m49.3/49.3 kB\u001b[0m \u001b[31m2.8 MB/s\u001b[0m eta \u001b[36m0:00:00\u001b[0m\n",
            "\u001b[2K   \u001b[90m━━━━━━━━━━━━━━━━━━━━━━━━━━━━━━━━━━━━━━━━\u001b[0m \u001b[32m141.9/141.9 kB\u001b[0m \u001b[31m8.8 MB/s\u001b[0m eta \u001b[36m0:00:00\u001b[0m\n",
            "\u001b[2K   \u001b[90m━━━━━━━━━━━━━━━━━━━━━━━━━━━━━━━━━━━━━━━━\u001b[0m \u001b[32m58.3/58.3 kB\u001b[0m \u001b[31m3.4 MB/s\u001b[0m eta \u001b[36m0:00:00\u001b[0m\n",
            "\u001b[?25h"
          ]
        }
      ],
      "source": [
        "#!pip install -qU langchain_experimental"
      ]
    },
    {
      "cell_type": "markdown",
      "metadata": {
        "id": "U9ciZbFEldv_"
      },
      "source": [
        "We'll use the `percentile` thresholding method for this example which will:\n",
        "\n",
        "Calculate all distances between sentences, and then break apart sequences of setences that exceed a given percentile among all distances."
      ]
    },
    {
      "cell_type": "code",
      "execution_count": 48,
      "metadata": {
        "id": "66EIEWiEYl5y"
      },
      "outputs": [],
      "source": [
        "from langchain_experimental.text_splitter import SemanticChunker\n",
        "\n",
        "semantic_chunker = SemanticChunker(\n",
        "    embeddings,\n",
        "    breakpoint_threshold_type=\"percentile\"\n",
        ")"
      ]
    },
    {
      "cell_type": "markdown",
      "metadata": {
        "id": "YqoKmz12mhRW"
      },
      "source": [
        "Now we can split our documents."
      ]
    },
    {
      "cell_type": "code",
      "execution_count": 49,
      "metadata": {
        "id": "ROcV7o68ZIq7"
      },
      "outputs": [],
      "source": [
        "semantic_documents = semantic_chunker.split_documents(documents)"
      ]
    },
    {
      "cell_type": "markdown",
      "metadata": {
        "id": "L8-LNC-Xmjex"
      },
      "source": [
        "Let's create a new vector store."
      ]
    },
    {
      "cell_type": "code",
      "execution_count": 50,
      "metadata": {
        "id": "h3sl9QjyZhIe"
      },
      "outputs": [],
      "source": [
        "semantic_vectorstore = Qdrant.from_documents(\n",
        "    semantic_documents,\n",
        "    embeddings,\n",
        "    location=\":memory:\",\n",
        "    collection_name=\"JohnWickSemantic\"\n",
        ")"
      ]
    },
    {
      "cell_type": "markdown",
      "metadata": {
        "id": "Eh_r_-LHmmKn"
      },
      "source": [
        "We'll use naive retrieval for this example."
      ]
    },
    {
      "cell_type": "code",
      "execution_count": 51,
      "metadata": {
        "id": "odVyDUHwZftc"
      },
      "outputs": [],
      "source": [
        "semantic_retriever = semantic_vectorstore.as_retriever(search_kwargs={\"k\" : 10})"
      ]
    },
    {
      "cell_type": "markdown",
      "metadata": {
        "id": "Mkeiv_ojmp6G"
      },
      "source": [
        "Finally we can create our classic chain!"
      ]
    },
    {
      "cell_type": "code",
      "execution_count": 52,
      "metadata": {
        "id": "xWE_0J0mZveG"
      },
      "outputs": [],
      "source": [
        "semantic_retrieval_chain = (\n",
        "    {\"context\": itemgetter(\"question\") | semantic_retriever, \"question\": itemgetter(\"question\")}\n",
        "    | RunnablePassthrough.assign(context=itemgetter(\"context\"))\n",
        "    | {\"response\": rag_prompt | chat_model, \"context\": itemgetter(\"context\")}\n",
        ")"
      ]
    },
    {
      "cell_type": "markdown",
      "metadata": {
        "id": "R5pfjLQ3ms9_"
      },
      "source": [
        "And view the results!"
      ]
    },
    {
      "cell_type": "code",
      "execution_count": 53,
      "metadata": {
        "colab": {
          "base_uri": "https://localhost:8080/",
          "height": 70
        },
        "id": "0lN2j-e4Z0SD",
        "outputId": "ef483e21-7200-4dfc-b8bf-aed4f23587b2"
      },
      "outputs": [
        {
          "data": {
            "text/plain": [
              "\"Based on the reviews provided, people generally liked John Wick. Many reviews are highly positive, praising the action, style, and overall entertainment value of the films. For example, some reviewers gave ratings of 9 or 10 out of 10, and descriptions highlight the films' coolness, intense action sequences, and stylish direction. Although there are a few less favorable reviews, the overall impression is that John Wick is widely appreciated and well-liked by audiences.\""
            ]
          },
          "execution_count": 53,
          "metadata": {},
          "output_type": "execute_result"
        }
      ],
      "source": [
        "semantic_retrieval_chain.invoke({\"question\" : \"Did people generally like John Wick?\"})[\"response\"].content"
      ]
    },
    {
      "cell_type": "code",
      "execution_count": 54,
      "metadata": {
        "colab": {
          "base_uri": "https://localhost:8080/",
          "height": 53
        },
        "id": "xdqfBH1SZ3f9",
        "outputId": "ed62b2d1-7586-46cc-aaf4-c54192a56155"
      },
      "outputs": [
        {
          "data": {
            "text/plain": [
              "'Yes, there is a review with a rating of 10. The URL to that review is: /review/rw4854296/?ref_=tt_urv.'"
            ]
          },
          "execution_count": 54,
          "metadata": {},
          "output_type": "execute_result"
        }
      ],
      "source": [
        "semantic_retrieval_chain.invoke({\"question\" : \"Do any reviews have a rating of 10? If so - can I have the URLs to those reviews?\"})[\"response\"].content"
      ]
    },
    {
      "cell_type": "code",
      "execution_count": 55,
      "metadata": {
        "colab": {
          "base_uri": "https://localhost:8080/",
          "height": 70
        },
        "id": "rAcAObZnZ4o6",
        "outputId": "3f1cade3-41e4-4e42-ef71-048dd18e5e3a"
      },
      "outputs": [
        {
          "data": {
            "text/plain": [
              "\"In the John Wick movies, the character John Wick, played by Keanu Reeves, is a retired assassin who is drawn back into a violent world of crime and revenge. The first film's plot begins when some thugs break into John's home, beat him up, kill his dog, and steal his car—without knowing his identity. This act of brutality provokes John Wick to seek revenge against those who wronged him. As he reenters his deadly profession, he faces a relentless pursuit by bounty-hunting killers, Russian gangsters, and other enemies, all while trying to find peace after losing his wife and beloved dog. The series is known for its stylish, intense action sequences and a simple premise of revenge that drives the story.\""
            ]
          },
          "execution_count": 55,
          "metadata": {},
          "output_type": "execute_result"
        }
      ],
      "source": [
        "semantic_retrieval_chain.invoke({\"question\" : \"What happened in John Wick?\"})[\"response\"].content"
      ]
    },
    {
      "cell_type": "markdown",
      "metadata": {
        "id": "xk2n3-pnVWDJ"
      },
      "source": [
        "# 🤝 Breakout Room Part #2"
      ]
    },
    {
      "cell_type": "markdown",
      "metadata": {
        "id": "2SkJLYwMVZkj"
      },
      "source": [
        "#### 🏗️ Activity #1\n",
        "\n",
        "Your task is to evaluate the various Retriever methods against eachother.\n",
        "\n",
        "You are expected to:\n",
        "\n",
        "1. Create a \"golden dataset\"\n",
        " - Use Synthetic Data Generation (powered by Ragas, or otherwise) to create this dataset\n",
        "2. Evaluate each retriever with *retriever specific* Ragas metrics\n",
        " - Semantic Chunking is not considered a retriever method and will not be required for marks, but you may find it useful to do a \"semantic chunking on\" vs. \"semantic chunking off\" comparision between them\n",
        "3. Compile these in a list and write a small paragraph about which is best for this particular data and why.\n",
        "\n",
        "Your analysis should factor in:\n",
        "  - Cost\n",
        "  - Latency\n",
        "  - Performance\n",
        "\n",
        "> NOTE: This is **NOT** required to be completed in class. Please spend time in your breakout rooms creating a plan before moving on to writing code."
      ]
    },
    {
      "cell_type": "markdown",
      "metadata": {
        "id": "TWAr16a5XMub"
      },
      "source": [
        "##### HINTS:\n",
        "\n",
        "- LangSmith provides detailed information about latency and cost."
      ]
    },
    {
      "cell_type": "code",
      "execution_count": 57,
      "metadata": {
        "id": "tgDICngKXLGK"
      },
      "outputs": [
        {
          "name": "stderr",
          "output_type": "stream",
          "text": [
            "[nltk_data] Downloading package punkt to /Users/aneeta/nltk_data...\n",
            "[nltk_data]   Package punkt is already up-to-date!\n",
            "[nltk_data] Downloading package averaged_perceptron_tagger to\n",
            "[nltk_data]     /Users/aneeta/nltk_data...\n",
            "[nltk_data]   Package averaged_perceptron_tagger is already up-to-\n",
            "[nltk_data]       date!\n"
          ]
        },
        {
          "data": {
            "text/plain": [
              "True"
            ]
          },
          "execution_count": 57,
          "metadata": {},
          "output_type": "execute_result"
        }
      ],
      "source": [
        "import os\n",
        "import getpass\n",
        "import copy\n",
        "import pandas as pd\n",
        "import numpy as np\n",
        "import nltk\n",
        "nltk.download('punkt')\n",
        "nltk.download('averaged_perceptron_tagger')\n",
        "\n"
      ]
    },
    {
      "cell_type": "code",
      "execution_count": 58,
      "metadata": {},
      "outputs": [],
      "source": [
        "# === ENVIRONMENT SETUP ===\n",
        "os.environ[\"LANGCHAIN_TRACING_V2\"] = \"true\"\n",
        "os.environ[\"LANGCHAIN_API_KEY\"] = getpass.getpass(\"🔐 Enter your LangChain API key: \")\n",
        "os.environ[\"LANGCHAIN_PROJECT\"] = \"retriever-comparison-john-wick\""
      ]
    },
    {
      "cell_type": "code",
      "execution_count": 60,
      "metadata": {},
      "outputs": [],
      "source": [
        "from ragas.llms import LangchainLLMWrapper\n",
        "from ragas.embeddings import LangchainEmbeddingsWrapper\n",
        "from langchain_openai import ChatOpenAI\n",
        "from langchain_openai import OpenAIEmbeddings\n",
        "generator_llm = LangchainLLMWrapper(ChatOpenAI(model=\"gpt-4.1-nano\"))\n",
        "generator_embeddings = LangchainEmbeddingsWrapper(OpenAIEmbeddings())"
      ]
    },
    {
      "cell_type": "code",
      "execution_count": 63,
      "metadata": {},
      "outputs": [
        {
          "data": {
            "application/vnd.jupyter.widget-view+json": {
              "model_id": "2d4a79c4710c4cf6a30d877e67b1c6d9",
              "version_major": 2,
              "version_minor": 0
            },
            "text/plain": [
              "Applying SummaryExtractor:   0%|          | 0/44 [00:00<?, ?it/s]"
            ]
          },
          "metadata": {},
          "output_type": "display_data"
        },
        {
          "data": {
            "application/vnd.jupyter.widget-view+json": {
              "model_id": "17ba8fd429ef4bc0b9c9086451539364",
              "version_major": 2,
              "version_minor": 0
            },
            "text/plain": [
              "Applying CustomNodeFilter:   0%|          | 0/100 [00:00<?, ?it/s]"
            ]
          },
          "metadata": {},
          "output_type": "display_data"
        },
        {
          "name": "stderr",
          "output_type": "stream",
          "text": [
            "Node eb4a6c45-9b3e-408c-a926-3735762999d2 does not have a summary. Skipping filtering.\n",
            "Node 3b091d74-76d4-4746-b473-02068f71e20b does not have a summary. Skipping filtering.\n",
            "Node 42ee3418-3604-45b7-aec6-527044b2a9f0 does not have a summary. Skipping filtering.\n",
            "Node 5e908c40-d391-4b44-8470-8fe13a0c0aae does not have a summary. Skipping filtering.\n",
            "Node 107083e3-cd14-41c6-b97c-ee2009146678 does not have a summary. Skipping filtering.\n",
            "Node c17f415d-0755-405c-9664-02fb7f2d7c55 does not have a summary. Skipping filtering.\n",
            "Node 932c8e17-bda0-440d-a727-94a56a7f9113 does not have a summary. Skipping filtering.\n",
            "Node 4b141b7c-f6f4-4a62-a5c2-4a6776372047 does not have a summary. Skipping filtering.\n",
            "Node 040159c5-3669-4128-85ef-15ba6b8f19f0 does not have a summary. Skipping filtering.\n",
            "Node 9ac32dd1-e50b-4d4f-9e0f-f6a97a149d2c does not have a summary. Skipping filtering.\n",
            "Node 84dac775-3171-4c33-8f64-41840e2eba0a does not have a summary. Skipping filtering.\n",
            "Node 0a166fab-8352-4a6a-b9d6-06bc17b5ad61 does not have a summary. Skipping filtering.\n",
            "Node cd336fff-fd22-4c5c-9855-d8543e475b55 does not have a summary. Skipping filtering.\n",
            "Node 80363cbc-3cad-42be-b9ff-5ca36f744547 does not have a summary. Skipping filtering.\n",
            "Node a7dfac0e-7444-43b3-8df2-d2e2149b271f does not have a summary. Skipping filtering.\n",
            "Node 4e21a013-9eed-48ce-a32b-1b5bd736d02c does not have a summary. Skipping filtering.\n",
            "Node 618ffee6-9241-4e7d-92cf-c4ac41880667 does not have a summary. Skipping filtering.\n",
            "Node e4c17ecf-f4e8-4a71-b22c-092224de7173 does not have a summary. Skipping filtering.\n",
            "Node 01fe740e-eb0e-4738-8236-d3328d488d2c does not have a summary. Skipping filtering.\n",
            "Node 42bcb468-0124-4875-a24a-5dcc02918531 does not have a summary. Skipping filtering.\n",
            "Node 4055595c-a47a-4995-8647-06e919338b37 does not have a summary. Skipping filtering.\n",
            "Node 40dd81d9-5bef-4dc3-a15b-2fc71f50b599 does not have a summary. Skipping filtering.\n",
            "Node 12887f3a-e524-45ad-8b42-e9b6251fd48c does not have a summary. Skipping filtering.\n",
            "Node 22bd4d09-a617-46ce-80bb-55e5169c5472 does not have a summary. Skipping filtering.\n",
            "Node 4c48f332-f8fc-412b-aa53-d2b6c1847fd0 does not have a summary. Skipping filtering.\n",
            "Node 7382a6d1-6dac-4ffe-b73a-e1210bfedb6d does not have a summary. Skipping filtering.\n",
            "Node 2dd9a22d-0cfd-49e8-b9e0-a6dd7aace94f does not have a summary. Skipping filtering.\n",
            "Node 6cf2038b-199a-4d6d-b012-34d07ca3fac9 does not have a summary. Skipping filtering.\n",
            "Node e252cfd2-b9b0-42f3-934c-e3ecc752ab76 does not have a summary. Skipping filtering.\n",
            "Node d28118d1-7261-4ac2-8961-fd9b84a7e6a9 does not have a summary. Skipping filtering.\n",
            "Node c5980f61-ce23-4389-9779-5c1c1a82b31d does not have a summary. Skipping filtering.\n",
            "Node df6230a0-76ab-4919-9027-1cda264e99bd does not have a summary. Skipping filtering.\n",
            "Node a6792b8a-ee59-4a6a-af82-fb95b0ba3782 does not have a summary. Skipping filtering.\n",
            "Node 7157d728-6712-431d-9d38-ab7aac1529ff does not have a summary. Skipping filtering.\n",
            "Node b5036db2-6c62-4fa6-9824-9bf81fc6856e does not have a summary. Skipping filtering.\n",
            "Node 1523986f-a8be-4f76-93f8-a2b0eba035d6 does not have a summary. Skipping filtering.\n",
            "Node 0fde25a3-070d-43ad-9a72-e41af0b7e0f8 does not have a summary. Skipping filtering.\n",
            "Node ba5694b9-d005-405b-b7ec-52f87848e7a7 does not have a summary. Skipping filtering.\n",
            "Node ed073bc3-ab34-4cb7-9d6e-fc5fe0c5524b does not have a summary. Skipping filtering.\n",
            "Node 6794e954-1314-4aff-a8af-3945024e67b4 does not have a summary. Skipping filtering.\n",
            "Node 0e9a75f0-2082-46cd-917d-18f205b35c3a does not have a summary. Skipping filtering.\n",
            "Node fec102e1-f4e6-4a1b-b75c-84648d25deb4 does not have a summary. Skipping filtering.\n",
            "Node b18ffad0-fc74-48a9-b781-92bd60048054 does not have a summary. Skipping filtering.\n",
            "Node 57ea07a9-b81e-4136-8f25-0ea5a9b5a7b1 does not have a summary. Skipping filtering.\n",
            "Node a4ed7197-7a14-4010-b696-45c4220dd8e2 does not have a summary. Skipping filtering.\n",
            "Node d4116179-bb3e-4796-bd7e-78452b555c1a does not have a summary. Skipping filtering.\n",
            "Node f130174a-dc2c-481b-9ddf-7d13eae1f898 does not have a summary. Skipping filtering.\n",
            "Node 72efec68-7158-4303-aed1-374aa80a5ade does not have a summary. Skipping filtering.\n",
            "Node 7afa46be-6bae-4ee8-bf03-4196ae7bb0af does not have a summary. Skipping filtering.\n",
            "Node d60d0459-f5f9-4ca2-92d4-dcf299710c60 does not have a summary. Skipping filtering.\n",
            "Node 18186732-4a5e-4748-8264-c64deec98898 does not have a summary. Skipping filtering.\n",
            "Node db4feaae-4911-426a-ba01-f7e13c18355e does not have a summary. Skipping filtering.\n",
            "Node c1a08b8a-33b6-4ea8-946e-2ecc4e2c2e13 does not have a summary. Skipping filtering.\n",
            "Node e8dd8fa8-d3d1-41aa-9aac-9ced66099a38 does not have a summary. Skipping filtering.\n",
            "Node d1a20d6f-6866-47a6-af5e-f2eb5ff0f0fa does not have a summary. Skipping filtering.\n",
            "Node a9a16b36-673b-40dc-9818-90f6f3f6d736 does not have a summary. Skipping filtering.\n"
          ]
        },
        {
          "data": {
            "application/vnd.jupyter.widget-view+json": {
              "model_id": "5bb7ffa73a154856880e2d91847ca631",
              "version_major": 2,
              "version_minor": 0
            },
            "text/plain": [
              "Applying [EmbeddingExtractor, ThemesExtractor, NERExtractor]:   0%|          | 0/217 [00:00<?, ?it/s]"
            ]
          },
          "metadata": {},
          "output_type": "display_data"
        },
        {
          "data": {
            "application/vnd.jupyter.widget-view+json": {
              "model_id": "de9811f1de6a4eb18a9238e1588537b0",
              "version_major": 2,
              "version_minor": 0
            },
            "text/plain": [
              "Applying [CosineSimilarityBuilder, OverlapScoreBuilder]:   0%|          | 0/2 [00:00<?, ?it/s]"
            ]
          },
          "metadata": {},
          "output_type": "display_data"
        },
        {
          "data": {
            "application/vnd.jupyter.widget-view+json": {
              "model_id": "1a00a3994743470f899431a8e009516c",
              "version_major": 2,
              "version_minor": 0
            },
            "text/plain": [
              "Generating personas:   0%|          | 0/3 [00:00<?, ?it/s]"
            ]
          },
          "metadata": {},
          "output_type": "display_data"
        },
        {
          "data": {
            "application/vnd.jupyter.widget-view+json": {
              "model_id": "5043ffddf13745bfbfdde18bfd299cc0",
              "version_major": 2,
              "version_minor": 0
            },
            "text/plain": [
              "Generating Scenarios:   0%|          | 0/3 [00:00<?, ?it/s]"
            ]
          },
          "metadata": {},
          "output_type": "display_data"
        },
        {
          "data": {
            "application/vnd.jupyter.widget-view+json": {
              "model_id": "5d238a9c579a4401a3536932cb5ba9ba",
              "version_major": 2,
              "version_minor": 0
            },
            "text/plain": [
              "Generating Samples:   0%|          | 0/12 [00:00<?, ?it/s]"
            ]
          },
          "metadata": {},
          "output_type": "display_data"
        }
      ],
      "source": [
        "from ragas.testset.synthesizers import default_query_distribution, SingleHopSpecificQuerySynthesizer, MultiHopAbstractQuerySynthesizer, MultiHopSpecificQuerySynthesizer\n",
        "\n",
        "query_distribution = [\n",
        "        (SingleHopSpecificQuerySynthesizer(llm=generator_llm), 0.5),\n",
        "        (MultiHopAbstractQuerySynthesizer(llm=generator_llm), 0.3),\n",
        "        (MultiHopSpecificQuerySynthesizer(llm=generator_llm), 0.2),\n",
        "]\n",
        "\n",
        "from ragas.testset import TestsetGenerator\n",
        "\n",
        "\n",
        "generator = TestsetGenerator(llm=generator_llm, embedding_model=generator_embeddings)\n",
        "dataset = generator.generate_with_langchain_docs(documents, testset_size=10)"
      ]
    },
    {
      "cell_type": "code",
      "execution_count": 64,
      "metadata": {},
      "outputs": [
        {
          "data": {
            "text/html": [
              "<div>\n",
              "<style scoped>\n",
              "    .dataframe tbody tr th:only-of-type {\n",
              "        vertical-align: middle;\n",
              "    }\n",
              "\n",
              "    .dataframe tbody tr th {\n",
              "        vertical-align: top;\n",
              "    }\n",
              "\n",
              "    .dataframe thead th {\n",
              "        text-align: right;\n",
              "    }\n",
              "</style>\n",
              "<table border=\"1\" class=\"dataframe\">\n",
              "  <thead>\n",
              "    <tr style=\"text-align: right;\">\n",
              "      <th></th>\n",
              "      <th>user_input</th>\n",
              "      <th>reference_contexts</th>\n",
              "      <th>reference</th>\n",
              "      <th>synthesizer_name</th>\n",
              "    </tr>\n",
              "  </thead>\n",
              "  <tbody>\n",
              "    <tr>\n",
              "      <th>0</th>\n",
              "      <td>What is the main plot of John Wick according t...</td>\n",
              "      <td>[: 0\\nReview: The best way I can describe John...</td>\n",
              "      <td>The main plot of John Wick is about a man seek...</td>\n",
              "      <td>single_hop_specifc_query_synthesizer</td>\n",
              "    </tr>\n",
              "    <tr>\n",
              "      <th>1</th>\n",
              "      <td>So like why is John Wick so popular and what m...</td>\n",
              "      <td>[: 2\\nReview: With the fourth installment scor...</td>\n",
              "      <td>The context states that the fourth installment...</td>\n",
              "      <td>single_hop_specifc_query_synthesizer</td>\n",
              "    </tr>\n",
              "    <tr>\n",
              "      <th>2</th>\n",
              "      <td>As an action film critic analyzing the movie J...</td>\n",
              "      <td>[: 3\\nReview: John wick has a very simple reve...</td>\n",
              "      <td>The review highlights that John Wick has a sim...</td>\n",
              "      <td>single_hop_specifc_query_synthesizer</td>\n",
              "    </tr>\n",
              "    <tr>\n",
              "      <th>3</th>\n",
              "      <td>Is Reeves in the movie?</td>\n",
              "      <td>[: 4\\nReview: Though he no longer has a taste ...</td>\n",
              "      <td>Yes, the review mentions that Reeves looks rig...</td>\n",
              "      <td>single_hop_specifc_query_synthesizer</td>\n",
              "    </tr>\n",
              "    <tr>\n",
              "      <th>4</th>\n",
              "      <td>How does John Wick's quest for revenge reflect...</td>\n",
              "      <td>[&lt;1-hop&gt;\\n\\n: 10\\nReview: Wow what a great sur...</td>\n",
              "      <td>John Wick's story exemplifies the hero's journ...</td>\n",
              "      <td>multi_hop_abstract_query_synthesizer</td>\n",
              "    </tr>\n",
              "    <tr>\n",
              "      <th>5</th>\n",
              "      <td>How does the John Wick film series exemplify t...</td>\n",
              "      <td>[&lt;1-hop&gt;\\n\\n: 22\\nReview: All the below are no...</td>\n",
              "      <td>The John Wick film series, as described in the...</td>\n",
              "      <td>multi_hop_abstract_query_synthesizer</td>\n",
              "    </tr>\n",
              "    <tr>\n",
              "      <th>6</th>\n",
              "      <td>Wha is the probblem with lack of inovation in ...</td>\n",
              "      <td>[&lt;1-hop&gt;\\n\\n: 23\\nReview: I love me a bit of t...</td>\n",
              "      <td>The context indicates that the John Wick serie...</td>\n",
              "      <td>multi_hop_abstract_query_synthesizer</td>\n",
              "    </tr>\n",
              "    <tr>\n",
              "      <th>7</th>\n",
              "      <td>How does the ineptitude of antagonists and cha...</td>\n",
              "      <td>[&lt;1-hop&gt;\\n\\n: 22\\nReview: All the below are no...</td>\n",
              "      <td>The film is a mess because the antagonists are...</td>\n",
              "      <td>multi_hop_abstract_query_synthesizer</td>\n",
              "    </tr>\n",
              "    <tr>\n",
              "      <th>8</th>\n",
              "      <td>How does the portrayal of Russian gangsters in...</td>\n",
              "      <td>[&lt;1-hop&gt;\\n\\n: 10\\nReview: Wow what a great sur...</td>\n",
              "      <td>The context highlights that in the John Wick s...</td>\n",
              "      <td>multi_hop_specific_query_synthesizer</td>\n",
              "    </tr>\n",
              "    <tr>\n",
              "      <th>9</th>\n",
              "      <td>How do the stylistic elements of John Wick: Ch...</td>\n",
              "      <td>[&lt;1-hop&gt;\\n\\n: 12\\nReview: If there's an equiva...</td>\n",
              "      <td>John Wick: Chapter 2 is described as an artist...</td>\n",
              "      <td>multi_hop_specific_query_synthesizer</td>\n",
              "    </tr>\n",
              "    <tr>\n",
              "      <th>10</th>\n",
              "      <td>How does the portrayal of Russian mobsters in ...</td>\n",
              "      <td>[&lt;1-hop&gt;\\n\\n: 10\\nReview: Wow what a great sur...</td>\n",
              "      <td>The John Wick series features Russian mobsters...</td>\n",
              "      <td>multi_hop_specific_query_synthesizer</td>\n",
              "    </tr>\n",
              "    <tr>\n",
              "      <th>11</th>\n",
              "      <td>How does the portrayal of Ian McShane's charac...</td>\n",
              "      <td>[&lt;1-hop&gt;\\n\\n: 20\\nReview: After resolving his ...</td>\n",
              "      <td>In the John Wick series, Ian McShane's portray...</td>\n",
              "      <td>multi_hop_specific_query_synthesizer</td>\n",
              "    </tr>\n",
              "  </tbody>\n",
              "</table>\n",
              "</div>"
            ],
            "text/plain": [
              "                                           user_input  \\\n",
              "0   What is the main plot of John Wick according t...   \n",
              "1   So like why is John Wick so popular and what m...   \n",
              "2   As an action film critic analyzing the movie J...   \n",
              "3                             Is Reeves in the movie?   \n",
              "4   How does John Wick's quest for revenge reflect...   \n",
              "5   How does the John Wick film series exemplify t...   \n",
              "6   Wha is the probblem with lack of inovation in ...   \n",
              "7   How does the ineptitude of antagonists and cha...   \n",
              "8   How does the portrayal of Russian gangsters in...   \n",
              "9   How do the stylistic elements of John Wick: Ch...   \n",
              "10  How does the portrayal of Russian mobsters in ...   \n",
              "11  How does the portrayal of Ian McShane's charac...   \n",
              "\n",
              "                                   reference_contexts  \\\n",
              "0   [: 0\\nReview: The best way I can describe John...   \n",
              "1   [: 2\\nReview: With the fourth installment scor...   \n",
              "2   [: 3\\nReview: John wick has a very simple reve...   \n",
              "3   [: 4\\nReview: Though he no longer has a taste ...   \n",
              "4   [<1-hop>\\n\\n: 10\\nReview: Wow what a great sur...   \n",
              "5   [<1-hop>\\n\\n: 22\\nReview: All the below are no...   \n",
              "6   [<1-hop>\\n\\n: 23\\nReview: I love me a bit of t...   \n",
              "7   [<1-hop>\\n\\n: 22\\nReview: All the below are no...   \n",
              "8   [<1-hop>\\n\\n: 10\\nReview: Wow what a great sur...   \n",
              "9   [<1-hop>\\n\\n: 12\\nReview: If there's an equiva...   \n",
              "10  [<1-hop>\\n\\n: 10\\nReview: Wow what a great sur...   \n",
              "11  [<1-hop>\\n\\n: 20\\nReview: After resolving his ...   \n",
              "\n",
              "                                            reference  \\\n",
              "0   The main plot of John Wick is about a man seek...   \n",
              "1   The context states that the fourth installment...   \n",
              "2   The review highlights that John Wick has a sim...   \n",
              "3   Yes, the review mentions that Reeves looks rig...   \n",
              "4   John Wick's story exemplifies the hero's journ...   \n",
              "5   The John Wick film series, as described in the...   \n",
              "6   The context indicates that the John Wick serie...   \n",
              "7   The film is a mess because the antagonists are...   \n",
              "8   The context highlights that in the John Wick s...   \n",
              "9   John Wick: Chapter 2 is described as an artist...   \n",
              "10  The John Wick series features Russian mobsters...   \n",
              "11  In the John Wick series, Ian McShane's portray...   \n",
              "\n",
              "                        synthesizer_name  \n",
              "0   single_hop_specifc_query_synthesizer  \n",
              "1   single_hop_specifc_query_synthesizer  \n",
              "2   single_hop_specifc_query_synthesizer  \n",
              "3   single_hop_specifc_query_synthesizer  \n",
              "4   multi_hop_abstract_query_synthesizer  \n",
              "5   multi_hop_abstract_query_synthesizer  \n",
              "6   multi_hop_abstract_query_synthesizer  \n",
              "7   multi_hop_abstract_query_synthesizer  \n",
              "8   multi_hop_specific_query_synthesizer  \n",
              "9   multi_hop_specific_query_synthesizer  \n",
              "10  multi_hop_specific_query_synthesizer  \n",
              "11  multi_hop_specific_query_synthesizer  "
            ]
          },
          "execution_count": 64,
          "metadata": {},
          "output_type": "execute_result"
        }
      ],
      "source": [
        "dataset.to_pandas()"
      ]
    },
    {
      "cell_type": "code",
      "execution_count": 65,
      "metadata": {},
      "outputs": [
        {
          "data": {
            "text/plain": [
              "{'response': AIMessage(content=\"In John Wick, the puppy that John received after his wife's death is killed by some thugs led by the son of a Russian gangster. This tragic event motivates John Wick to seek revenge.\", additional_kwargs={'refusal': None}, response_metadata={'token_usage': {'completion_tokens': 38, 'prompt_tokens': 3228, 'total_tokens': 3266, 'completion_tokens_details': {'accepted_prediction_tokens': 0, 'audio_tokens': 0, 'reasoning_tokens': 0, 'rejected_prediction_tokens': 0}, 'prompt_tokens_details': {'audio_tokens': 0, 'cached_tokens': 0}}, 'model_name': 'gpt-4.1-nano-2025-04-14', 'system_fingerprint': 'fp_8fd43718b3', 'id': 'chatcmpl-BZlNRw6i7nJqQrteEyLQ5WYLyv7R6', 'service_tier': 'default', 'finish_reason': 'stop', 'logprobs': None}, id='run--23a7d9d1-0000-4bb3-889f-35f69cf7a5ad-0', usage_metadata={'input_tokens': 3228, 'output_tokens': 38, 'total_tokens': 3266, 'input_token_details': {'audio': 0, 'cache_read': 0}, 'output_token_details': {'audio': 0, 'reasoning': 0}}),\n",
              " 'context': [Document(metadata={'source': 'john_wick_1.csv', 'row': 10, 'Review_Date': '22 November 2014', 'Review_Title': ' Most Excellent\\n', 'Review_Url': '/review/rw3128980/?ref_=tt_urv', 'Author': 'utgard14', 'Rating': 7, 'Movie_Title': 'John Wick 1', 'last_accessed_at': '2025-05-18T16:22:20.423126', '_id': '72c665c1e87e45aeb173851cb82e4853', '_collection_name': 'JohnWick'}, page_content=\": 10\\nReview: Wow what a great surprise this was. I was told by a friend this was good but it's been awhile since I liked a Keanu movie so I was hesitant to try it. Retired hit-man John Wick (Keanu Reeves) loses his wife to cancer. After her funeral he receives a puppy she left him. A few days later some thugs, led by the son of a Russian gangster John used to work for, break into John's house. They beat him up, take the keys to his beloved car, and kill the puppy. They did this not knowing who he was; they just wanted the car. Now John Wick is out for revenge and the Russian gangster is trying to save his son's life by sending killers after John.\"),\n",
              "  Document(metadata={'source': 'john_wick_2.csv', 'row': 19, 'Review_Date': '29 November 2020', 'Review_Title': ' John Wick Kills A Lot Of People\\n', 'Review_Url': '/review/rw6320115/?ref_=tt_urv', 'Author': 'boblipton', 'Rating': 5, 'Movie_Title': 'John Wick 2', 'last_accessed_at': '2025-05-19T16:22:20.423297', '_id': '1b226533a9a14127a5c979ee808def77', '_collection_name': 'JohnWick'}, page_content=\": 19\\nReview: If you've seen the first John Wick movie, you know that Keanu Reeves is John Wick, a retired assassin who comes out of retirement when someone kills his dog. In this one, which begins a week later, matters are still reverberating, and some one has stolen his car, which calls for a lot of carnage. That settled, John is called on to pay off an old debt by helping Ian McShane take over the Assassin's Guild by flying around to Italy, Canada and Manhattan and killing what seems like hundreds of assassins.\"),\n",
              "  Document(metadata={'source': 'john_wick_1.csv', 'row': 18, 'Review_Date': '10 September 2019', 'Review_Title': ' Probably NOT a film to watch with your kids or mother.\\n', 'Review_Url': '/review/rw5112990/?ref_=tt_urv', 'Author': 'planktonrules', 'Rating': 7, 'Movie_Title': 'John Wick 1', 'last_accessed_at': '2025-05-18T16:22:20.423131', '_id': '79bfa00ab621461db6635fe200350740', '_collection_name': 'JohnWick'}, page_content=\": 18\\nReview: When the story begins, John (Keanu Reeves) has just lost his wife. After her death, he's a bit lost but tries to rebuild his life. One day, he's getting gas and a young Russian-American punk notices Wick's classic car...and tries to buy it off him. But Wick isn't interested and declines. Soon, the punk arrives at Wick's home with some goons where they surprise him--beating him senseless, destroying his stuff, killing his dog and stealing his car! This is when you then learn that Wick is a super-assassin....and the punk chose the wrong guy to attack. The jerk's father is a big-time Russian mobster....and it's a contest to see who will win...the mobster and his gang or Wick on his own. Considering there are (so far) two MORE John Wick films, it pretty much seems certain who will win this battle.\"),\n",
              "  Document(metadata={'source': 'john_wick_1.csv', 'row': 0, 'Review_Date': '6 May 2015', 'Review_Title': ' Kinetic, concise, and stylish; John Wick kicks ass.\\n', 'Review_Url': '/review/rw3233896/?ref_=tt_urv', 'Author': 'lnvicta', 'Rating': 8, 'Movie_Title': 'John Wick 1', 'last_accessed_at': '2025-05-18T16:22:20.423106', '_id': '7afe9d65f26e446b8a0f97c28f0e88b4', '_collection_name': 'JohnWick'}, page_content=\": 0\\nReview: The best way I can describe John Wick is to picture Taken but instead of Liam Neeson it's Keanu Reeves and instead of his daughter it's his dog. That's essentially the plot of the movie. John Wick (Reeves) is out to seek revenge on the people who took something he loved from him. It's a beautifully simple premise for an action movie - when action movies get convoluted, they get bad i.e. A Good Day to Die Hard. John Wick gives the viewers what they want: Awesome action, stylish stunts, kinetic chaos, and a relatable hero to tie it all together. John Wick succeeds in its simplicity.\"),\n",
              "  Document(metadata={'source': 'john_wick_1.csv', 'row': 5, 'Review_Date': '23 March 2023', 'Review_Title': ' Violent and gripping story with plenty of unstopped action , shootouts and breathtaking fights\\n', 'Review_Url': '/review/rw8945545/?ref_=tt_urv', 'Author': 'ma-cortes', 'Rating': 7, 'Movie_Title': 'John Wick 1', 'last_accessed_at': '2025-05-18T16:22:20.423123', '_id': '9c8e8e74df5e42e3acd1449b1e58069f', '_collection_name': 'JohnWick'}, page_content=\": 5\\nReview: Ultra-violent first entry with lots of killings, thrills , noisy action , suspense , and crossfire . In this original John Wick (2014) , an ex-hit-man comes out of retirement to track down the gangsters that killed his dog and took everything from him . With the untimely death of his beloved wife still bitter in his mouth he seeks for vengeance . But when an arrogant Russian mob prince and hoodlums steal his car and kill his dog , they are fully aware of his lethal capacity. The Bogeyman will find himself dragged into an impossible task as every killer in the business dreams of cornering the legendary Wick who now has an enormous price on his head . In this first installment John Wick , blind with revenge, and for his salvation John will immediately unleash a carefully orchestrated maelstrom of destruction against those attempt to chase him and with a price tag on his head, as he is the target of hit men : an army of bounty-hunting killers on his trail and a murderer woman everywhere . The legendary hitman will be forced to unearth his meticulously concealed identity and to carry out a relentless vendetta . Now, only blood can quench the boogeyman's thirst for retribution . Don't Set Him Off! . John Wick isn't the Boogeyman... He's the guy you send to kill the doomed Boogeyman. Revenge is all he has left. You want peace, prepare for war . Don't Hunt What You Can't Kill. Tick Tock, Mr. Wick. Everyone Is Waiting. For John Wick . Every Action Has Consequences. This Friday, Wick is Back . Its the World Vs. Wick. Every Action Has Consequences.\"),\n",
              "  Document(metadata={'source': 'john_wick_2.csv', 'row': 20, 'Review_Date': '28 May 2017', 'Review_Title': ' A New Franchise is Born\\n', 'Review_Url': '/review/rw3718180/?ref_=tt_urv', 'Author': 'claudio_carvalho', 'Rating': 8, 'Movie_Title': 'John Wick 2', 'last_accessed_at': '2025-05-19T16:22:20.423298', '_id': 'd84690a03b514fbaa50e16f2b14d5f78', '_collection_name': 'JohnWick'}, page_content=\": 20\\nReview: After resolving his issues with the Russian mafia, John Wick (Keanu Reeves) returns home. But soon the mobster Santino D'Antonio (Riccardo Scamarcio) visits him to show Wick's marker and tells that he needs to help. John Wicks refuses since he is retired and Santino blows-up his house. John Wick meets the owner of the Continental hotel in New York City, Winston (Ian McShane), and he tells that Wick cannot violate the Mafia rules and shall honor the marker. Santino asks John Wick to kill his sister Gianna D'Antonio (Claudia Gerini) in Rome so that he can sit on the High Table of the criminal organizations. When John Wicks accomplishes his assignment, Santino puts a seven-million dollar contract on him attracting professional killers from everywhere. But Wick promises to kill Santino that is not protected by his marker anymore.\"),\n",
              "  Document(metadata={'source': 'john_wick_2.csv', 'row': 4, 'Review_Date': '13 February 2017', 'Review_Title': ' The rare sequel that is better than the original movie\\n', 'Review_Url': '/review/rw3639244/?ref_=tt_urv', 'Author': 'paul-allaer', 'Rating': 8, 'Movie_Title': 'John Wick 2', 'last_accessed_at': '2025-05-19T16:22:20.423289', '_id': '37c04e5f7c4d4ca5b2ff220702529082', '_collection_name': 'JohnWick'}, page_content=': 4\\nReview: \"John Wick: Chapter 2\" (2017 release; 122 min.) continues the \\'adventures\\' of former (?) hit man John Wick. As the movie opens, we are immediately thrown in the middle of a car vs. bike chase, and next thing we know, we find our man retrieving his beloved Mustang from a chop shop in NYC, but not without cars flying about, and dozens of dead or wounded bodies. And that\\'s all in the pre-opening credits! As the story unfolds, Wick, who wants \"out, is nevertheless forced back \"in\" when an Italian baddie calls in a favor and Wick has no choice but to accept. To tell you more of the plot would spoil your viewing experience, you\\'ll just have to see for yourself how it all plays out.'),\n",
              "  Document(metadata={'source': 'john_wick_1.csv', 'row': 4, 'Review_Date': '30 July 2020', 'Review_Title': ' delivers if taken for what it is\\n', 'Review_Url': '/review/rw5952152/?ref_=tt_urv', 'Author': 'Special-K88', 'Rating': 0, 'Movie_Title': 'John Wick 1', 'last_accessed_at': '2025-05-18T16:22:20.423123', '_id': '183d12bb1de8457bbea271f6901998e0', '_collection_name': 'JohnWick'}, page_content=': 4\\nReview: Though he no longer has a taste for wet work, retired assassin and \"Boogeyman\" John Wick has suffered a personal tragedy that\\'s left a huge void in his life. When he and his dog (really the last meaningful thing he has left) fall victim to a scummy group of Russian mobsters, he emerges from his shell with vengeance on his mind. Slow and ambiguous at first, but reveals more as it goes along, and once it kicks into gear it rarely lets up with plenty of stylized, visceral action scenes, an impressive arsenal of weaponry, plus sly direction and editing that give it the feel of a violent music video at times. Preposterously fun to watch, it just doesn\\'t have much of a story at its disposal, not to mention all the over-the-top bloodletting and mayhem eventually becomes redundant. Savvy, indestructible Reeves looks right at home, and delivers many of his lines with a sardonic wit. **½'),\n",
              "  Document(metadata={'source': 'john_wick_3.csv', 'row': 6, 'Review_Date': '7 February 2020', 'Review_Title': ' More of the same. Yawn!\\n', 'Review_Url': '/review/rw5466367/?ref_=tt_urv', 'Author': 'BA_Harrison', 'Rating': 4, 'Movie_Title': 'John Wick 3', 'last_accessed_at': '2025-05-20T16:22:20.423457', '_id': '84fc15f2c69b488e95d301c1de41f289', '_collection_name': 'JohnWick'}, page_content=\": 6\\nReview: Assassin John Wick is referred to as Baba Yaga in this third chapter, suggesting that he is, in fact, a supernatural being; his ability to evade death, appear and disappear like a ninja from a Godfrey Ho film, and move with lightning fast reflexes despite being in his mid-fifties confirms this fact, in my opinion. Unfortunately, Wick's invincibility means that the many action scenes in Parabellum are largely devoid of excitement, the only outcome being that Wick is still alive and all of his enemies are dead.\"),\n",
              "  Document(metadata={'source': 'john_wick_2.csv', 'row': 17, 'Review_Date': '18 March 2018', 'Review_Title': ' Even worse than the first movie\\n', 'Review_Url': '/review/rw4095490/?ref_=tt_urv', 'Author': 'grantss', 'Rating': 2, 'Movie_Title': 'John Wick 2', 'last_accessed_at': '2025-05-19T16:22:20.423296', '_id': '9ab1f2949b314ab6aa860bd6c687adc9', '_collection_name': 'JohnWick'}, page_content=': 17\\nReview: Picking up where the first movie left off, John Wick still wants his car back. Also, he now discovers that there is a bounty on his head. Rejoining his former profession, he heads to Rome to complete an assassination assignment.')]}"
            ]
          },
          "execution_count": 65,
          "metadata": {},
          "output_type": "execute_result"
        }
      ],
      "source": [
        "res=naive_retrieval_chain.invoke({\"question\" : \"What happened to the puppy in John Wick?\"})#[\"response\"].content\n",
        "res"
      ]
    },
    {
      "cell_type": "code",
      "execution_count": 66,
      "metadata": {},
      "outputs": [
        {
          "data": {
            "text/plain": [
              "': 10\\nReview: Wow what a great surprise this was. I was told by a friend this was good but it\\'s been awhile since I liked a Keanu movie so I was hesitant to try it. Retired hit-man John Wick (Keanu Reeves) loses his wife to cancer. After her funeral he receives a puppy she left him. A few days later some thugs, led by the son of a Russian gangster John used to work for, break into John\\'s house. They beat him up, take the keys to his beloved car, and kill the puppy. They did this not knowing who he was; they just wanted the car. Now John Wick is out for revenge and the Russian gangster is trying to save his son\\'s life by sending killers after John.\\n: 19\\nReview: If you\\'ve seen the first John Wick movie, you know that Keanu Reeves is John Wick, a retired assassin who comes out of retirement when someone kills his dog. In this one, which begins a week later, matters are still reverberating, and some one has stolen his car, which calls for a lot of carnage. That settled, John is called on to pay off an old debt by helping Ian McShane take over the Assassin\\'s Guild by flying around to Italy, Canada and Manhattan and killing what seems like hundreds of assassins.\\n: 18\\nReview: When the story begins, John (Keanu Reeves) has just lost his wife. After her death, he\\'s a bit lost but tries to rebuild his life. One day, he\\'s getting gas and a young Russian-American punk notices Wick\\'s classic car...and tries to buy it off him. But Wick isn\\'t interested and declines. Soon, the punk arrives at Wick\\'s home with some goons where they surprise him--beating him senseless, destroying his stuff, killing his dog and stealing his car! This is when you then learn that Wick is a super-assassin....and the punk chose the wrong guy to attack. The jerk\\'s father is a big-time Russian mobster....and it\\'s a contest to see who will win...the mobster and his gang or Wick on his own. Considering there are (so far) two MORE John Wick films, it pretty much seems certain who will win this battle.\\n: 0\\nReview: The best way I can describe John Wick is to picture Taken but instead of Liam Neeson it\\'s Keanu Reeves and instead of his daughter it\\'s his dog. That\\'s essentially the plot of the movie. John Wick (Reeves) is out to seek revenge on the people who took something he loved from him. It\\'s a beautifully simple premise for an action movie - when action movies get convoluted, they get bad i.e. A Good Day to Die Hard. John Wick gives the viewers what they want: Awesome action, stylish stunts, kinetic chaos, and a relatable hero to tie it all together. John Wick succeeds in its simplicity.\\n: 5\\nReview: Ultra-violent first entry with lots of killings, thrills , noisy action , suspense , and crossfire . In this original John Wick (2014) , an ex-hit-man comes out of retirement to track down the gangsters that killed his dog and took everything from him . With the untimely death of his beloved wife still bitter in his mouth he seeks for vengeance . But when an arrogant Russian mob prince and hoodlums steal his car and kill his dog , they are fully aware of his lethal capacity. The Bogeyman will find himself dragged into an impossible task as every killer in the business dreams of cornering the legendary Wick who now has an enormous price on his head . In this first installment John Wick , blind with revenge, and for his salvation John will immediately unleash a carefully orchestrated maelstrom of destruction against those attempt to chase him and with a price tag on his head, as he is the target of hit men : an army of bounty-hunting killers on his trail and a murderer woman everywhere . The legendary hitman will be forced to unearth his meticulously concealed identity and to carry out a relentless vendetta . Now, only blood can quench the boogeyman\\'s thirst for retribution . Don\\'t Set Him Off! . John Wick isn\\'t the Boogeyman... He\\'s the guy you send to kill the doomed Boogeyman. Revenge is all he has left. You want peace, prepare for war . Don\\'t Hunt What You Can\\'t Kill. Tick Tock, Mr. Wick. Everyone Is Waiting. For John Wick . Every Action Has Consequences. This Friday, Wick is Back . Its the World Vs. Wick. Every Action Has Consequences.\\n: 20\\nReview: After resolving his issues with the Russian mafia, John Wick (Keanu Reeves) returns home. But soon the mobster Santino D\\'Antonio (Riccardo Scamarcio) visits him to show Wick\\'s marker and tells that he needs to help. John Wicks refuses since he is retired and Santino blows-up his house. John Wick meets the owner of the Continental hotel in New York City, Winston (Ian McShane), and he tells that Wick cannot violate the Mafia rules and shall honor the marker. Santino asks John Wick to kill his sister Gianna D\\'Antonio (Claudia Gerini) in Rome so that he can sit on the High Table of the criminal organizations. When John Wicks accomplishes his assignment, Santino puts a seven-million dollar contract on him attracting professional killers from everywhere. But Wick promises to kill Santino that is not protected by his marker anymore.\\n: 4\\nReview: \"John Wick: Chapter 2\" (2017 release; 122 min.) continues the \\'adventures\\' of former (?) hit man John Wick. As the movie opens, we are immediately thrown in the middle of a car vs. bike chase, and next thing we know, we find our man retrieving his beloved Mustang from a chop shop in NYC, but not without cars flying about, and dozens of dead or wounded bodies. And that\\'s all in the pre-opening credits! As the story unfolds, Wick, who wants \"out, is nevertheless forced back \"in\" when an Italian baddie calls in a favor and Wick has no choice but to accept. To tell you more of the plot would spoil your viewing experience, you\\'ll just have to see for yourself how it all plays out.\\n: 4\\nReview: Though he no longer has a taste for wet work, retired assassin and \"Boogeyman\" John Wick has suffered a personal tragedy that\\'s left a huge void in his life. When he and his dog (really the last meaningful thing he has left) fall victim to a scummy group of Russian mobsters, he emerges from his shell with vengeance on his mind. Slow and ambiguous at first, but reveals more as it goes along, and once it kicks into gear it rarely lets up with plenty of stylized, visceral action scenes, an impressive arsenal of weaponry, plus sly direction and editing that give it the feel of a violent music video at times. Preposterously fun to watch, it just doesn\\'t have much of a story at its disposal, not to mention all the over-the-top bloodletting and mayhem eventually becomes redundant. Savvy, indestructible Reeves looks right at home, and delivers many of his lines with a sardonic wit. **½\\n: 6\\nReview: Assassin John Wick is referred to as Baba Yaga in this third chapter, suggesting that he is, in fact, a supernatural being; his ability to evade death, appear and disappear like a ninja from a Godfrey Ho film, and move with lightning fast reflexes despite being in his mid-fifties confirms this fact, in my opinion. Unfortunately, Wick\\'s invincibility means that the many action scenes in Parabellum are largely devoid of excitement, the only outcome being that Wick is still alive and all of his enemies are dead.\\n: 17\\nReview: Picking up where the first movie left off, John Wick still wants his car back. Also, he now discovers that there is a bounty on his head. Rejoining his former profession, he heads to Rome to complete an assassination assignment.'"
            ]
          },
          "execution_count": 66,
          "metadata": {},
          "output_type": "execute_result"
        }
      ],
      "source": [
        "'\\n'.join([doc.page_content for doc in res['context']])"
      ]
    },
    {
      "cell_type": "code",
      "execution_count": 136,
      "metadata": {},
      "outputs": [],
      "source": [
        "import os\n",
        "os.environ[\"COHERE_API_KEY\"] = \"UBfTGhv9xUD08EBcK6r4ps0drrcnU8n4K2ozMsCo\"\n"
      ]
    },
    {
      "cell_type": "code",
      "execution_count": 67,
      "metadata": {},
      "outputs": [],
      "source": [
        "import time\n",
        "import pandas as pd\n",
        "\n",
        "# Define retrievers and their names together\n",
        "retrievers = {\n",
        "    \"naive\": naive_retrieval_chain,\n",
        "    \"bm25\": bm25_retrieval_chain,\n",
        "    \"compression\": contextual_compression_retrieval_chain,\n",
        "    \"multi_query\": multi_query_retrieval_chain,\n",
        "    \"parent_doc\": parent_document_retrieval_chain,\n",
        "    \"ensemble\": ensemble_retrieval_chain,\n",
        "}\n",
        "\n",
        "# Store output datasets by name\n",
        "retriever_outputs = {}\n",
        "\n",
        "\n"
      ]
    },
    {
      "cell_type": "code",
      "execution_count": 68,
      "metadata": {},
      "outputs": [
        {
          "data": {
            "text/html": [
              "<div>\n",
              "<style scoped>\n",
              "    .dataframe tbody tr th:only-of-type {\n",
              "        vertical-align: middle;\n",
              "    }\n",
              "\n",
              "    .dataframe tbody tr th {\n",
              "        vertical-align: top;\n",
              "    }\n",
              "\n",
              "    .dataframe thead th {\n",
              "        text-align: right;\n",
              "    }\n",
              "</style>\n",
              "<table border=\"1\" class=\"dataframe\">\n",
              "  <thead>\n",
              "    <tr style=\"text-align: right;\">\n",
              "      <th></th>\n",
              "      <th>user_input</th>\n",
              "      <th>retrieved_contexts</th>\n",
              "      <th>reference_contexts</th>\n",
              "      <th>response</th>\n",
              "      <th>reference</th>\n",
              "      <th>synthesizer_name</th>\n",
              "    </tr>\n",
              "  </thead>\n",
              "  <tbody>\n",
              "    <tr>\n",
              "      <th>0</th>\n",
              "      <td>What is the main plot of John Wick according t...</td>\n",
              "      <td>[: 4\\nReview: Hollow plot interspersed with th...</td>\n",
              "      <td>[: 0\\nReview: The best way I can describe John...</td>\n",
              "      <td>According to the review, the main plot of John...</td>\n",
              "      <td>The main plot of John Wick is about a man seek...</td>\n",
              "      <td>single_hop_specifc_query_synthesizer</td>\n",
              "    </tr>\n",
              "    <tr>\n",
              "      <th>1</th>\n",
              "      <td>So like why is John Wick so popular and what m...</td>\n",
              "      <td>[: 6\\nReview: John Wick is one of those few mo...</td>\n",
              "      <td>[: 2\\nReview: With the fourth installment scor...</td>\n",
              "      <td>John Wick is popular because it offers a uniqu...</td>\n",
              "      <td>The context states that the fourth installment...</td>\n",
              "      <td>single_hop_specifc_query_synthesizer</td>\n",
              "    </tr>\n",
              "    <tr>\n",
              "      <th>2</th>\n",
              "      <td>As an action film critic analyzing the movie J...</td>\n",
              "      <td>[: 9\\nReview: At first glance, John Wick sound...</td>\n",
              "      <td>[: 3\\nReview: John wick has a very simple reve...</td>\n",
              "      <td>As an action film critic analyzing \"John Wick,...</td>\n",
              "      <td>The review highlights that John Wick has a sim...</td>\n",
              "      <td>single_hop_specifc_query_synthesizer</td>\n",
              "    </tr>\n",
              "    <tr>\n",
              "      <th>3</th>\n",
              "      <td>Is Reeves in the movie?</td>\n",
              "      <td>[: 11\\nReview: Who needs a 2hr and 40 min acti...</td>\n",
              "      <td>[: 4\\nReview: Though he no longer has a taste ...</td>\n",
              "      <td>Based on the provided context, there is no inf...</td>\n",
              "      <td>Yes, the review mentions that Reeves looks rig...</td>\n",
              "      <td>single_hop_specifc_query_synthesizer</td>\n",
              "    </tr>\n",
              "    <tr>\n",
              "      <th>4</th>\n",
              "      <td>How does John Wick's quest for revenge reflect...</td>\n",
              "      <td>[: 0\\nReview: The best way I can describe John...</td>\n",
              "      <td>[&lt;1-hop&gt;\\n\\n: 10\\nReview: Wow what a great sur...</td>\n",
              "      <td>John Wick's quest for revenge reflects the cla...</td>\n",
              "      <td>John Wick's story exemplifies the hero's journ...</td>\n",
              "      <td>multi_hop_abstract_query_synthesizer</td>\n",
              "    </tr>\n",
              "  </tbody>\n",
              "</table>\n",
              "</div>"
            ],
            "text/plain": [
              "                                          user_input  \\\n",
              "0  What is the main plot of John Wick according t...   \n",
              "1  So like why is John Wick so popular and what m...   \n",
              "2  As an action film critic analyzing the movie J...   \n",
              "3                            Is Reeves in the movie?   \n",
              "4  How does John Wick's quest for revenge reflect...   \n",
              "\n",
              "                                  retrieved_contexts  \\\n",
              "0  [: 4\\nReview: Hollow plot interspersed with th...   \n",
              "1  [: 6\\nReview: John Wick is one of those few mo...   \n",
              "2  [: 9\\nReview: At first glance, John Wick sound...   \n",
              "3  [: 11\\nReview: Who needs a 2hr and 40 min acti...   \n",
              "4  [: 0\\nReview: The best way I can describe John...   \n",
              "\n",
              "                                  reference_contexts  \\\n",
              "0  [: 0\\nReview: The best way I can describe John...   \n",
              "1  [: 2\\nReview: With the fourth installment scor...   \n",
              "2  [: 3\\nReview: John wick has a very simple reve...   \n",
              "3  [: 4\\nReview: Though he no longer has a taste ...   \n",
              "4  [<1-hop>\\n\\n: 10\\nReview: Wow what a great sur...   \n",
              "\n",
              "                                            response  \\\n",
              "0  According to the review, the main plot of John...   \n",
              "1  John Wick is popular because it offers a uniqu...   \n",
              "2  As an action film critic analyzing \"John Wick,...   \n",
              "3  Based on the provided context, there is no inf...   \n",
              "4  John Wick's quest for revenge reflects the cla...   \n",
              "\n",
              "                                           reference  \\\n",
              "0  The main plot of John Wick is about a man seek...   \n",
              "1  The context states that the fourth installment...   \n",
              "2  The review highlights that John Wick has a sim...   \n",
              "3  Yes, the review mentions that Reeves looks rig...   \n",
              "4  John Wick's story exemplifies the hero's journ...   \n",
              "\n",
              "                       synthesizer_name  \n",
              "0  single_hop_specifc_query_synthesizer  \n",
              "1  single_hop_specifc_query_synthesizer  \n",
              "2  single_hop_specifc_query_synthesizer  \n",
              "3  single_hop_specifc_query_synthesizer  \n",
              "4  multi_hop_abstract_query_synthesizer  "
            ]
          },
          "execution_count": 68,
          "metadata": {},
          "output_type": "execute_result"
        }
      ],
      "source": [
        "# Run each retriever over the dataset\n",
        "for name, retriever in retrievers.items():\n",
        "    for row in dataset:\n",
        "        question = row.eval_sample.user_input\n",
        "        result = retriever.invoke({\"question\": question})\n",
        "\n",
        "        row.eval_sample.response = result[\"response\"].content\n",
        "        row.eval_sample.retrieved_contexts = [doc.page_content for doc in result[\"context\"]]\n",
        "\n",
        "    # Save the modified dataset for this retriever\n",
        "    retriever_outputs[name] = copy.deepcopy(dataset)\n",
        "    time.sleep(6)  # Pause to avoid rate limits\n",
        "\n",
        "# Example: View results for one retriever\n",
        "retriever_outputs[\"bm25\"].to_pandas().head()"
      ]
    },
    {
      "cell_type": "code",
      "execution_count": 69,
      "metadata": {},
      "outputs": [
        {
          "name": "stdout",
          "output_type": "stream",
          "text": [
            " Hi there! How are you doing? \n",
            "If you have any questions, let me know and\n"
          ]
        }
      ],
      "source": [
        "import cohere\n",
        "co = cohere.Client(\"UBfTGhv9xUD08EBcK6r4ps0drrcnU8n4K2ozMsCo\")\n",
        "response = co.generate(prompt=\"Hello world\", model=\"command\", max_tokens=20)\n",
        "print(response.generations[0].text)\n"
      ]
    },
    {
      "cell_type": "code",
      "execution_count": 70,
      "metadata": {},
      "outputs": [
        {
          "data": {
            "application/vnd.jupyter.widget-view+json": {
              "model_id": "e3ba420cabef4bd6a55ecffcf32a2b90",
              "version_major": 2,
              "version_minor": 0
            },
            "text/plain": [
              "Evaluating:   0%|          | 0/48 [00:00<?, ?it/s]"
            ]
          },
          "metadata": {},
          "output_type": "display_data"
        },
        {
          "data": {
            "application/vnd.jupyter.widget-view+json": {
              "model_id": "a7e6c17d4a4d44cd8ab00fbf6a7b0057",
              "version_major": 2,
              "version_minor": 0
            },
            "text/plain": [
              "Evaluating:   0%|          | 0/48 [00:00<?, ?it/s]"
            ]
          },
          "metadata": {},
          "output_type": "display_data"
        },
        {
          "data": {
            "application/vnd.jupyter.widget-view+json": {
              "model_id": "30f32b96cbb442509df08e27501fb0a5",
              "version_major": 2,
              "version_minor": 0
            },
            "text/plain": [
              "Evaluating:   0%|          | 0/48 [00:00<?, ?it/s]"
            ]
          },
          "metadata": {},
          "output_type": "display_data"
        },
        {
          "data": {
            "application/vnd.jupyter.widget-view+json": {
              "model_id": "afdc768637ab40079d25186fce1b1f95",
              "version_major": 2,
              "version_minor": 0
            },
            "text/plain": [
              "Evaluating:   0%|          | 0/48 [00:00<?, ?it/s]"
            ]
          },
          "metadata": {},
          "output_type": "display_data"
        },
        {
          "data": {
            "application/vnd.jupyter.widget-view+json": {
              "model_id": "50f123db9ce64b499a6cca3f09569087",
              "version_major": 2,
              "version_minor": 0
            },
            "text/plain": [
              "Evaluating:   0%|          | 0/48 [00:00<?, ?it/s]"
            ]
          },
          "metadata": {},
          "output_type": "display_data"
        },
        {
          "data": {
            "application/vnd.jupyter.widget-view+json": {
              "model_id": "9cf63142aceb4685a767cb0a45a9dc1f",
              "version_major": 2,
              "version_minor": 0
            },
            "text/plain": [
              "Evaluating:   0%|          | 0/48 [00:00<?, ?it/s]"
            ]
          },
          "metadata": {},
          "output_type": "display_data"
        },
        {
          "name": "stdout",
          "output_type": "stream",
          "text": [
            "{'bm25': {'context_recall': 0.5278, 'faithfulness': 0.8104, 'factual_correctness(mode=f1)': 0.4742, 'answer_relevancy': 0.7897},\n",
            " 'compression': {'context_recall': 0.6111, 'faithfulness': 0.7829, 'factual_correctness(mode=f1)': 0.5700, 'answer_relevancy': 0.7934},\n",
            " 'ensemble': {'context_recall': 0.9722, 'faithfulness': 0.8699, 'factual_correctness(mode=f1)': 0.4700, 'answer_relevancy': 0.9479},\n",
            " 'multi_query': {'context_recall': 0.9028, 'faithfulness': 0.8319, 'factual_correctness(mode=f1)': 0.5317, 'answer_relevancy': 0.9524},\n",
            " 'naive': {'context_recall': 0.8194, 'faithfulness': 0.8244, 'factual_correctness(mode=f1)': 0.4867, 'answer_relevancy': 0.9520},\n",
            " 'parent_doc': {'context_recall': 0.4306, 'faithfulness': 0.6454, 'factual_correctness(mode=f1)': 0.5208, 'answer_relevancy': 0.9535}}\n"
          ]
        }
      ],
      "source": [
        "from ragas import EvaluationDataset, evaluate, RunConfig\n",
        "from ragas.llms import LangchainLLMWrapper\n",
        "from ragas.metrics import (\n",
        "    LLMContextRecall,\n",
        "    Faithfulness,\n",
        "    FactualCorrectness,\n",
        "    ResponseRelevancy\n",
        ")\n",
        "from langchain_openai import ChatOpenAI\n",
        "\n",
        "# Setup evaluator model\n",
        "evaluator_llm = LangchainLLMWrapper(ChatOpenAI(model=\"gpt-4.1-mini\"))\n",
        "\n",
        "# Evaluation config\n",
        "run_config = RunConfig(timeout=360)\n",
        "\n",
        "# Define your retriever outputs dict (replace with your actual one)\n",
        "# retriever_outputs = {\"bm25\": ..., \"naive\": ..., ...}\n",
        "\n",
        "# Initialize result storage\n",
        "ragas_results = {}\n",
        "\n",
        "# Evaluate each retriever output\n",
        "for name, dataset_obj in retriever_outputs.items():\n",
        "    eval_dataset = EvaluationDataset.from_pandas(dataset_obj.to_pandas())\n",
        "    result = evaluate(\n",
        "        dataset=eval_dataset,\n",
        "        metrics=[\n",
        "            LLMContextRecall(),\n",
        "            Faithfulness(),\n",
        "            FactualCorrectness(),\n",
        "            ResponseRelevancy()\n",
        "        ],\n",
        "        llm=evaluator_llm,\n",
        "        run_config=run_config\n",
        "    )\n",
        "    ragas_results[name] = result\n",
        "\n",
        "# Optional: print or inspect results\n",
        "from pprint import pprint\n",
        "pprint(ragas_results)\n"
      ]
    },
    {
      "cell_type": "code",
      "execution_count": 73,
      "metadata": {},
      "outputs": [
        {
          "ename": "NameError",
          "evalue": "name 'dataset_ragas' is not defined",
          "output_type": "error",
          "traceback": [
            "\u001b[31m---------------------------------------------------------------------------\u001b[39m",
            "\u001b[31mNameError\u001b[39m                                 Traceback (most recent call last)",
            "\u001b[36mCell\u001b[39m\u001b[36m \u001b[39m\u001b[32mIn[73]\u001b[39m\u001b[32m, line 17\u001b[39m\n\u001b[32m     11\u001b[39m dataset = client.create_dataset(\n\u001b[32m     12\u001b[39m     dataset_name=dataset_name,\n\u001b[32m     13\u001b[39m     description=dataset_description\n\u001b[32m     14\u001b[39m )\n\u001b[32m     16\u001b[39m \u001b[38;5;66;03m# === Upload Examples from RAGAS dataset ===\u001b[39;00m\n\u001b[32m---> \u001b[39m\u001b[32m17\u001b[39m df = \u001b[43mdataset_ragas\u001b[49m.to_pandas()  \u001b[38;5;66;03m# Replace `dataset_ragas` with your actual Testset object\u001b[39;00m\n\u001b[32m     19\u001b[39m \u001b[38;5;28;01mfor\u001b[39;00m _, row \u001b[38;5;129;01min\u001b[39;00m df.iterrows():\n\u001b[32m     20\u001b[39m     client.create_example(\n\u001b[32m     21\u001b[39m         inputs={\u001b[33m\"\u001b[39m\u001b[33mquestion\u001b[39m\u001b[33m\"\u001b[39m: row[\u001b[33m\"\u001b[39m\u001b[33muser_input\u001b[39m\u001b[33m\"\u001b[39m]},\n\u001b[32m     22\u001b[39m         outputs={\u001b[33m\"\u001b[39m\u001b[33manswer\u001b[39m\u001b[33m\"\u001b[39m: row[\u001b[33m\"\u001b[39m\u001b[33mreference\u001b[39m\u001b[33m\"\u001b[39m]},\n\u001b[32m     23\u001b[39m         metadata={\u001b[33m\"\u001b[39m\u001b[33mcontext\u001b[39m\u001b[33m\"\u001b[39m: row[\u001b[33m\"\u001b[39m\u001b[33mreference_contexts\u001b[39m\u001b[33m\"\u001b[39m]},\n\u001b[32m     24\u001b[39m         dataset_id=dataset.id\n\u001b[32m     25\u001b[39m     )\n",
            "\u001b[31mNameError\u001b[39m: name 'dataset_ragas' is not defined"
          ]
        }
      ],
      "source": [
        "from langsmith import Client\n",
        "from langchain_openai import ChatOpenAI\n",
        "from langsmith.evaluation import LangChainStringEvaluator\n",
        "\n",
        "# === Create Dataset ===\n",
        "client = Client()\n",
        "\n",
        "dataset_name = \"John Wick Movie Reviews\"\n",
        "dataset_description = \"Q&A pairs and review context for the John Wick franchise.\"\n",
        "\n",
        "dataset = client.create_dataset(\n",
        "    dataset_name=dataset_name,\n",
        "    description=dataset_description\n",
        ")\n",
        "\n",
        "# === Upload Examples from RAGAS dataset ===\n",
        "df = dataset_ragas.to_pandas()  # Replace `dataset_ragas` with your actual Testset object\n",
        "\n",
        "for _, row in df.iterrows():\n",
        "    client.create_example(\n",
        "        inputs={\"question\": row[\"user_input\"]},\n",
        "        outputs={\"answer\": row[\"reference\"]},\n",
        "        metadata={\"context\": row[\"reference_contexts\"]},\n",
        "        dataset_id=dataset.id\n",
        "    )\n",
        "\n",
        "# === Define LLM for evaluation ===\n",
        "eval_llm = ChatOpenAI(model=\"gpt-4.1\")\n",
        "\n",
        "# === Define Evaluators ===\n",
        "\n",
        "# 1. Basic QA evaluator\n",
        "qa_eval = LangChainStringEvaluator(\n",
        "    name=\"qa\",\n",
        "    config={\"llm\": eval_llm},\n",
        "    prepare_data=lambda run, example: {\n",
        "        \"prediction\": run.outputs[\"response\"],\n",
        "        \"reference\": example.outputs[\"answer\"],\n",
        "        \"input\": example.inputs[\"question\"]\n",
        "    }\n",
        ")\n",
        "\n",
        "# 2. Helpfulness evaluator\n",
        "helpfulness_eval = LangChainStringEvaluator(\n",
        "    name=\"labeled_criteria\",\n",
        "    config={\n",
        "        \"criteria\": {\n",
        "            \"helpfulness\": \"Is the response helpful given the correct reference answer?\"\n",
        "        },\n",
        "        \"llm\": eval_llm\n",
        "    },\n",
        "    prepare_data=lambda run, example: {\n",
        "        \"prediction\": run.outputs[\"response\"],\n",
        "        \"reference\": example.outputs[\"answer\"],\n",
        "        \"input\": example.inputs[\"question\"]\n",
        "    }\n",
        ")\n",
        "\n",
        "# 3. Dopeness evaluator (fun custom one)\n",
        "dopeness_eval = LangChainStringEvaluator(\n",
        "    name=\"criteria\",\n",
        "    config={\n",
        "        \"criteria\": {\n",
        "            \"dopeness\": \"Is this response dope, lit, or cool?\"\n",
        "        },\n",
        "        \"llm\": eval_llm\n",
        "    },\n",
        "    prepare_data=lambda run, example: {\n",
        "        \"prediction\": run.outputs[\"response\"],\n",
        "        \"reference\": example.outputs[\"answer\"],\n",
        "        \"input\": example.inputs[\"question\"]\n",
        "    }\n",
        ")\n"
      ]
    },
    {
      "cell_type": "code",
      "execution_count": null,
      "metadata": {},
      "outputs": [],
      "source": [
        "import time\n",
        "import pandas as pd\n",
        "from langsmith.evaluation import evaluate\n",
        "\n",
        "# === Define all retriever chains and results storage ===\n",
        "retriever_chains = {\n",
        "    \"naive\": naive_retrieval_chain,\n",
        "    \"bm25\": bm25_retrieval_chain,\n",
        "    \"compression\": contextual_compression_retrieval_chain,\n",
        "    \"multi_query\": multi_query_retrieval_chain,\n",
        "    \"parent_doc\": parent_document_retrieval_chain,\n",
        "    \"ensemble\": ensemble_retrieval_chain,\n",
        "}\n",
        "\n",
        "# === Initialize dictionary to hold LangSmith results ===\n",
        "langsmith_results = {}\n",
        "\n",
        "# === Run LangSmith evaluation per retriever ===\n",
        "for name, retriever in retriever_chains.items():\n",
        "    print(f\"🔍 Evaluating {name}...\")\n",
        "    result = evaluate(\n",
        "        retriever.invoke,\n",
        "        data=dataset_name,  # dataset name you uploaded earlier\n",
        "        evaluators=[\n",
        "            qa_eval,\n",
        "            helpfulness_eval,\n",
        "            dopeness_eval\n",
        "        ],\n",
        "        metadata={\"revision_id\": \"default_chain_init\"},\n",
        "    )\n",
        "    langsmith_results[name] = result\n",
        "    time.sleep(60)  # throttle to avoid rate limits\n",
        "\n",
        "# === Optional: Confirm session links manually ===\n",
        "print(\"✅ Evaluation complete. Visit https://smith.langchain.com to view your runs.\")\n",
        "\n",
        "# === Display stored performance images ===\n",
        "from IPython.display import display, Image\n",
        "\n",
        "display(Image(\"langsmith_performance_1.png\"))\n",
        "display(Image(\"langsmith_performance_4.png\"))\n"
      ]
    }
  ],
  "metadata": {
    "colab": {
      "provenance": [],
      "toc_visible": true
    },
    "kernelspec": {
      "display_name": ".venv",
      "language": "python",
      "name": "python3"
    },
    "language_info": {
      "codemirror_mode": {
        "name": "ipython",
        "version": 3
      },
      "file_extension": ".py",
      "mimetype": "text/x-python",
      "name": "python",
      "nbconvert_exporter": "python",
      "pygments_lexer": "ipython3",
      "version": "3.13.2"
    }
  },
  "nbformat": 4,
  "nbformat_minor": 0
}
